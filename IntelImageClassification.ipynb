{
  "cells": [
    {
      "cell_type": "markdown",
      "metadata": {
        "id": "view-in-github",
        "colab_type": "text"
      },
      "source": [
        "<a href=\"https://colab.research.google.com/github/BHANAPEESHAN/CNN_Projects_/blob/main/IntelImageClassification.ipynb\" target=\"_parent\"><img src=\"https://colab.research.google.com/assets/colab-badge.svg\" alt=\"Open In Colab\"/></a>"
      ]
    },
    {
      "cell_type": "code",
      "execution_count": 1,
      "metadata": {
        "colab": {
          "base_uri": "https://localhost:8080/"
        },
        "id": "dtu6oUe5jPR0",
        "outputId": "ca11897e-3af4-412d-9e9f-2c493d09fa04"
      },
      "outputs": [
        {
          "output_type": "stream",
          "name": "stdout",
          "text": [
            "Downloading intel-image-classification.zip to /content\n",
            " 99% 343M/346M [00:04<00:00, 109MB/s] \n",
            "100% 346M/346M [00:04<00:00, 87.4MB/s]\n"
          ]
        }
      ],
      "source": [
        "import os\n",
        "os.environ['KAGGLE_USERNAME']=\"bhanapeeshan\"\n",
        "os.environ['KAGGLE_KEY']=\"646853511eaba7e71ae9a0d4d3c4af8a\"\n",
        "!kaggle datasets download -d puneet6060/intel-image-classification"
      ]
    },
    {
      "cell_type": "code",
      "execution_count": 2,
      "metadata": {
        "colab": {
          "base_uri": "https://localhost:8080/"
        },
        "id": "Y24aPXY-ji0L",
        "outputId": "d8bcae72-46c3-42df-9433-3dc785d9281d"
      },
      "outputs": [
        {
          "output_type": "stream",
          "name": "stdout",
          "text": [
            "done\n"
          ]
        }
      ],
      "source": [
        "from zipfile import ZipFile\n",
        "file_name = \"/content/intel-image-classification.zip\"\n",
        "with ZipFile(file_name,'r') as zip:\n",
        "  zip.extractall()\n",
        "  print('done')"
      ]
    },
    {
      "cell_type": "code",
      "execution_count": 3,
      "metadata": {
        "colab": {
          "base_uri": "https://localhost:8080/"
        },
        "id": "qoWfMjUfkNTr",
        "outputId": "ed33e5ff-ddef-4c95-a034-ccb9275d0a45"
      },
      "outputs": [
        {
          "output_type": "stream",
          "name": "stdout",
          "text": [
            "['buildings', 'glacier', 'forest', 'street', 'sea', 'mountain']\n"
          ]
        }
      ],
      "source": [
        "import warnings\n",
        "warnings.filterwarnings('ignore')\n",
        "data_dir_list=os.listdir(\"/content/seg_train/seg_train\")\n",
        "print(data_dir_list)\n",
        "path,dirs,files=next(os.walk(\"/content/seg_train/seg_train\"))\n",
        "file_count=len(files)"
      ]
    },
    {
      "cell_type": "code",
      "execution_count": 4,
      "metadata": {
        "id": "k7OR6NQ3T7bo"
      },
      "outputs": [],
      "source": [
        "# # Creating Train / Val / Test folders (One time use)\n",
        "import os\n",
        "import numpy as np\n",
        "import shutil\n",
        "import random\n",
        "#root_dir = '/content/NA_Fish_Dataset/' # data root path\n",
        "#classes_dir = ['Sea Bass', 'Black Sea Sprat', 'Red Mullet', 'Red Sea Bream', 'Shrimp', 'Striped Red Mullet', 'Trout', 'Gilt Head Bream', 'Horse Mackerel'] #total labels\n",
        "#\n",
        "#val_ratio = 0.20\n",
        "#test_ratio = 0.20\n",
        "#\n",
        "#for cls in classes_dir:\n",
        "#    os.makedirs(root_dir +'train/' + cls)\n",
        "#    os.makedirs(root_dir +'val/' + cls)\n",
        "#    os.makedirs(root_dir +'test/' + cls)\n",
        "#\n",
        "#\n",
        "## Creating partitions of the data after shuffeling\n",
        "#src = root_dir + cls # Folder to copy images from\n",
        "#\n",
        "#allFileNames = os.listdir(src)\n",
        "#np.random.shuffle(allFileNames)\n",
        "#train_FileNames, val_FileNames, test_FileNames = np.split(np.array(allFileNames),\n",
        "#                                                          [int(len(allFileNames)* (1 - (val_ratio + test_ratio))), \n",
        "#                                                           int(len(allFileNames)* (1 - test_ratio))])\n",
        "#\n",
        "#\n",
        "#train_FileNames = [src+'/'+ name for name in train_FileNames.tolist()]\n",
        "#val_FileNames = [src+'/' + name for name in val_FileNames.tolist()]\n",
        "#test_FileNames = [src+'/' + name for name in test_FileNames.tolist()]\n",
        "#\n",
        "#print('Total images: ', len(allFileNames))\n",
        "#print('Training: ', len(train_FileNames))\n",
        "#print('Validation: ', len(val_FileNames))\n",
        "#print('Testing: ', len(test_FileNames))\n",
        "#for cls in classes_dir:\n",
        "#       # Copy-pasting images\n",
        "#       for name in train_FileNames:\n",
        "#              shutil.copy(name, root_dir +'train/' + cls)\n",
        "#\n",
        "#       for name in val_FileNames:\n",
        "#              shutil.copy(name, root_dir +'val/' + cls)\n",
        "#\n",
        "#       for name in test_FileNames:\n",
        "#               shutil.copy(name, root_dir +'test/' + cls)"
      ]
    },
    {
      "cell_type": "code",
      "execution_count": 5,
      "metadata": {
        "colab": {
          "base_uri": "https://localhost:8080/",
          "height": 390
        },
        "id": "gcehCEdKUmIk",
        "outputId": "74c7dcc6-bbb3-4349-f2d9-43ae2926a86c"
      },
      "outputs": [
        {
          "output_type": "display_data",
          "data": {
            "image/png": "[encoded data removed]",
            "text/plain": [
              "<Figure size 648x432 with 1 Axes>"
            ]
          },
          "metadata": {
            "needs_background": "light"
          }
        }
      ],
      "source": [
        "import matplotlib.pyplot as plt\n",
        "import seaborn as sns \n",
        "from matplotlib.image import imread\n",
        "import pathlib\n",
        "\n",
        "\n",
        "image_folder=['sea', 'forest', 'glacier', 'buildings', 'street', 'mountain']\n",
        "nimgs={}\n",
        "\n",
        "for i in image_folder:\n",
        "  nimages=len(os.listdir('/content/seg_train/seg_train/'+i+'/'))\n",
        "  nimgs[i]=nimages\n",
        "plt.figure(figsize=(9,6))\n",
        "plt.bar(range(len(nimgs)),list(nimgs.values()),align='center')\n",
        "plt.xticks(range(len(nimgs)),list(nimgs.keys()))\n",
        "plt.title(\"Distribution of classes in train\")\n",
        "plt.show()\n"
      ]
    },
    {
      "cell_type": "code",
      "execution_count": 6,
      "metadata": {
        "colab": {
          "base_uri": "https://localhost:8080/",
          "height": 390
        },
        "id": "_3s9R0lRU3Aj",
        "outputId": "3ee1cf1b-dcf5-43ca-974d-a15471adddb0"
      },
      "outputs": [
        {
          "output_type": "display_data",
          "data": {
            "image/png": "[encoded data removed]",
            "text/plain": [
              "<Figure size 648x432 with 1 Axes>"
            ]
          },
          "metadata": {
            "needs_background": "light"
          }
        }
      ],
      "source": [
        "import matplotlib.pyplot as plt\n",
        "import seaborn as sns \n",
        "from matplotlib.image import imread\n",
        "import pathlib\n",
        "image_folder=['sea', 'forest', 'glacier', 'buildings', 'street', 'mountain']\n",
        "nimgs={}\n",
        "\n",
        "for i in image_folder:\n",
        "  nimages=len(os.listdir('/content/seg_test/seg_test/'+i+'/'))\n",
        "  nimgs[i]=nimages\n",
        "plt.figure(figsize=(9,6))\n",
        "plt.bar(range(len(nimgs)),list(nimgs.values()),align='center')\n",
        "plt.xticks(range(len(nimgs)),list(nimgs.keys()))\n",
        "plt.title(\"Distribution of classes in val\")\n",
        "plt.show()\n"
      ]
    },
    {
      "cell_type": "code",
      "execution_count": 7,
      "metadata": {
        "colab": {
          "base_uri": "https://localhost:8080/"
        },
        "id": "MPZwAwKidWkF",
        "outputId": "d6c857b2-bc4f-4e5f-c07d-39cfd80aedb4"
      },
      "outputs": [
        {
          "output_type": "stream",
          "name": "stdout",
          "text": [
            "training images of sea are: 510\n",
            "training images of forest are: 474\n",
            "training images of glacier are: 553\n",
            "training images of buildings are: 437\n",
            "training images of street are: 501\n",
            "training images of mountain are: 525\n"
          ]
        }
      ],
      "source": [
        "for i in image_folder:\n",
        "  print(\"training images of {} are: \".format(i)+ str(len(os.listdir(\"/content/seg_test/seg_test/\"+i+\"/\"))))"
      ]
    },
    {
      "cell_type": "code",
      "execution_count": 8,
      "metadata": {
        "id": "sEXEqJ6Gnkaj"
      },
      "outputs": [],
      "source": [
        "from tensorflow.keras.optimizers import Adam\n",
        "from tensorflow.keras.preprocessing.image import ImageDataGenerator\n",
        "from tensorflow.keras.layers import Conv2D,MaxPooling2D,Flatten,Dense,Dropout\n",
        "from tensorflow.keras.models import Sequential\n",
        "from tensorflow.keras.callbacks import EarlyStopping,ModelCheckpoint"
      ]
    },
    {
      "cell_type": "code",
      "execution_count": 9,
      "metadata": {
        "id": "7zoYdNGhoVaG"
      },
      "outputs": [],
      "source": [
        "img_width=256\n",
        "img_height=256\n",
        "batch_size=32"
      ]
    },
    {
      "cell_type": "code",
      "execution_count": 10,
      "metadata": {
        "colab": {
          "base_uri": "https://localhost:8080/"
        },
        "id": "hVLliERtoYJ4",
        "outputId": "f461d269-cff2-4509-9709-8359ebfc7128"
      },
      "outputs": [
        {
          "output_type": "stream",
          "name": "stdout",
          "text": [
            "Found 14034 images belonging to 6 classes.\n"
          ]
        }
      ],
      "source": [
        "TRAINING_DIR = \"/content/seg_train/seg_train\"\n",
        "train_datagen=ImageDataGenerator(rescale=1/255.0)\n",
        "train_gen=train_datagen.flow_from_directory(TRAINING_DIR,\n",
        "                                            batch_size=batch_size,\n",
        "                                            class_mode='categorical',\n",
        "                                            target_size=(img_height,img_width))"
      ]
    },
    {
      "cell_type": "code",
      "execution_count": 11,
      "metadata": {
        "colab": {
          "base_uri": "https://localhost:8080/"
        },
        "id": "DLHDIQw5UmnP",
        "outputId": "9a64662f-aac2-452d-99cf-e1d059b4b7b7"
      },
      "outputs": [
        {
          "output_type": "stream",
          "name": "stdout",
          "text": [
            "Found 3000 images belonging to 6 classes.\n"
          ]
        }
      ],
      "source": [
        "VALIDATION_DIR = \"/content/seg_test/seg_test\"\n",
        "val_datagen=ImageDataGenerator(rescale=1/255.0)\n",
        "                                 \n",
        "val_gen=val_datagen.flow_from_directory(VALIDATION_DIR,\n",
        "                                            batch_size=batch_size,\n",
        "                                            class_mode='categorical',\n",
        "                                            target_size=(img_height,img_width))"
      ]
    },
    {
      "cell_type": "code",
      "execution_count": 12,
      "metadata": {
        "id": "qatr-mv7omQf"
      },
      "outputs": [],
      "source": [
        "callbacks=EarlyStopping(monitor='val_loss',patience=5,verbose=1,mode='auto')    #'auto'\n",
        "bestmodelfile='/content/CNN_aug_best_weights.h5'\n",
        "bestmodel=ModelCheckpoint(bestmodelfile,monitor='val_acc',verbose=1,save_best_only=True)"
      ]
    },
    {
      "cell_type": "code",
      "execution_count": 13,
      "metadata": {
        "colab": {
          "base_uri": "https://localhost:8080/"
        },
        "id": "tBBRpO_Dorjw",
        "outputId": "6e998470-2677-4f34-95ab-3275c4c2db3b"
      },
      "outputs": [
        {
          "output_type": "stream",
          "name": "stdout",
          "text": [
            "Model: \"sequential\"\n",
            "_________________________________________________________________\n",
            " Layer (type)                Output Shape              Param #   \n",
            "=================================================================\n",
            " conv2d (Conv2D)             (None, 254, 254, 16)      448       \n",
            "                                                                 \n",
            " max_pooling2d (MaxPooling2D  (None, 127, 127, 16)     0         \n",
            " )                                                               \n",
            "                                                                 \n",
            " conv2d_1 (Conv2D)           (None, 125, 125, 32)      4640      \n",
            "                                                                 \n",
            " max_pooling2d_1 (MaxPooling  (None, 62, 62, 32)       0         \n",
            " 2D)                                                             \n",
            "                                                                 \n",
            " dropout (Dropout)           (None, 62, 62, 32)        0         \n",
            "                                                                 \n",
            " conv2d_2 (Conv2D)           (None, 60, 60, 64)        18496     \n",
            "                                                                 \n",
            " conv2d_3 (Conv2D)           (None, 58, 58, 64)        36928     \n",
            "                                                                 \n",
            " max_pooling2d_2 (MaxPooling  (None, 29, 29, 64)       0         \n",
            " 2D)                                                             \n",
            "                                                                 \n",
            " dropout_1 (Dropout)         (None, 29, 29, 64)        0         \n",
            "                                                                 \n",
            " conv2d_4 (Conv2D)           (None, 27, 27, 128)       73856     \n",
            "                                                                 \n",
            " conv2d_5 (Conv2D)           (None, 25, 25, 128)       147584    \n",
            "                                                                 \n",
            " max_pooling2d_3 (MaxPooling  (None, 12, 12, 128)      0         \n",
            " 2D)                                                             \n",
            "                                                                 \n",
            " dropout_2 (Dropout)         (None, 12, 12, 128)       0         \n",
            "                                                                 \n",
            " conv2d_6 (Conv2D)           (None, 10, 10, 256)       295168    \n",
            "                                                                 \n",
            " conv2d_7 (Conv2D)           (None, 8, 8, 256)         590080    \n",
            "                                                                 \n",
            " max_pooling2d_4 (MaxPooling  (None, 4, 4, 256)        0         \n",
            " 2D)                                                             \n",
            "                                                                 \n",
            " dropout_3 (Dropout)         (None, 4, 4, 256)         0         \n",
            "                                                                 \n",
            " flatten (Flatten)           (None, 4096)              0         \n",
            "                                                                 \n",
            " dense (Dense)               (None, 512)               2097664   \n",
            "                                                                 \n",
            " dense_1 (Dense)             (None, 512)               262656    \n",
            "                                                                 \n",
            " dense_2 (Dense)             (None, 6)                 3078      \n",
            "                                                                 \n",
            "=================================================================\n",
            "Total params: 3,530,598\n",
            "Trainable params: 3,530,598\n",
            "Non-trainable params: 0\n",
            "_________________________________________________________________\n"
          ]
        }
      ],
      "source": [
        "model = Sequential([\n",
        "    Conv2D(16, (3, 3), activation='relu', input_shape=(img_height, img_width, 3)), \n",
        "    MaxPooling2D(2, 2),\n",
        "    Conv2D(32, (3, 3), activation='relu'), \n",
        "    MaxPooling2D(2, 2),\n",
        "    Dropout(0.5),\n",
        "    Conv2D(64, (3, 3), activation='relu'),\n",
        "    Conv2D(64, (3, 3), activation='relu'),\n",
        "    MaxPooling2D(2, 2),\n",
        "    Dropout(0.5),\n",
        "    Conv2D(128, (3, 3), activation='relu'),\n",
        "    Conv2D(128, (3, 3), activation='relu'),\n",
        "    MaxPooling2D(2, 2),\n",
        "    Dropout(0.5),\n",
        "    Conv2D(256, (3, 3), activation='relu'),\n",
        "    Conv2D(256, (3, 3), activation='relu'),\n",
        "    MaxPooling2D(2, 2),\n",
        "    Dropout(0.5),\n",
        "    Flatten(),\n",
        "    Dense(512, activation='relu'),\n",
        "    Dense(512, activation='relu'),\n",
        "    Dense(6, activation='softmax')\n",
        "])\n",
        "model.summary()"
      ]
    },
    {
      "cell_type": "code",
      "execution_count": 14,
      "metadata": {
        "id": "qIwJ12oBoveR"
      },
      "outputs": [],
      "source": [
        "from tensorflow import optimizers\n",
        "model.compile(optimizer=optimizers.Adam(learning_rate=0.001), \n",
        "              loss='binary_crossentropy', \n",
        "              metrics =['accuracy'])"
      ]
    },
    {
      "cell_type": "code",
      "execution_count": 15,
      "metadata": {
        "colab": {
          "base_uri": "https://localhost:8080/"
        },
        "id": "AGvzNQGto11O",
        "outputId": "6d58256b-9179-4795-a26d-83a76135a706"
      },
      "outputs": [
        {
          "output_type": "stream",
          "name": "stdout",
          "text": [
            "Epoch 1/30\n",
            "439/439 [==============================] - ETA: 0s - loss: 0.4032 - accuracy: 0.3093WARNING:tensorflow:Can save best model only with val_acc available, skipping.\n",
            "439/439 [==============================] - 53s 83ms/step - loss: 0.4032 - accuracy: 0.3093 - val_loss: 0.3045 - val_accuracy: 0.5600\n",
            "Epoch 2/30\n",
            "439/439 [==============================] - ETA: 0s - loss: 0.2718 - accuracy: 0.6032WARNING:tensorflow:Can save best model only with val_acc available, skipping.\n",
            "439/439 [==============================] - 38s 87ms/step - loss: 0.2718 - accuracy: 0.6032 - val_loss: 0.2666 - val_accuracy: 0.6180\n",
            "Epoch 3/30\n",
            "439/439 [==============================] - ETA: 0s - loss: 0.2308 - accuracy: 0.6858WARNING:tensorflow:Can save best model only with val_acc available, skipping.\n",
            "439/439 [==============================] - 35s 79ms/step - loss: 0.2308 - accuracy: 0.6858 - val_loss: 0.2254 - val_accuracy: 0.7013\n",
            "Epoch 4/30\n",
            "439/439 [==============================] - ETA: 0s - loss: 0.2073 - accuracy: 0.7269WARNING:tensorflow:Can save best model only with val_acc available, skipping.\n",
            "439/439 [==============================] - 35s 80ms/step - loss: 0.2073 - accuracy: 0.7269 - val_loss: 0.2254 - val_accuracy: 0.7147\n",
            "Epoch 5/30\n",
            "439/439 [==============================] - ETA: 0s - loss: 0.1872 - accuracy: 0.7579WARNING:tensorflow:Can save best model only with val_acc available, skipping.\n",
            "439/439 [==============================] - 34s 77ms/step - loss: 0.1872 - accuracy: 0.7579 - val_loss: 0.2066 - val_accuracy: 0.7487\n",
            "Epoch 6/30\n",
            "439/439 [==============================] - ETA: 0s - loss: 0.1760 - accuracy: 0.7803WARNING:tensorflow:Can save best model only with val_acc available, skipping.\n",
            "439/439 [==============================] - 37s 83ms/step - loss: 0.1760 - accuracy: 0.7803 - val_loss: 0.1857 - val_accuracy: 0.7643\n",
            "Epoch 7/30\n",
            "439/439 [==============================] - ETA: 0s - loss: 0.1681 - accuracy: 0.7920WARNING:tensorflow:Can save best model only with val_acc available, skipping.\n",
            "439/439 [==============================] - 34s 77ms/step - loss: 0.1681 - accuracy: 0.7920 - val_loss: 0.1746 - val_accuracy: 0.7897\n",
            "Epoch 8/30\n",
            "439/439 [==============================] - ETA: 0s - loss: 0.1585 - accuracy: 0.8068WARNING:tensorflow:Can save best model only with val_acc available, skipping.\n",
            "439/439 [==============================] - 34s 78ms/step - loss: 0.1585 - accuracy: 0.8068 - val_loss: 0.1766 - val_accuracy: 0.7893\n",
            "Epoch 9/30\n",
            "439/439 [==============================] - ETA: 0s - loss: 0.1529 - accuracy: 0.8140WARNING:tensorflow:Can save best model only with val_acc available, skipping.\n",
            "439/439 [==============================] - 34s 77ms/step - loss: 0.1529 - accuracy: 0.8140 - val_loss: 0.1652 - val_accuracy: 0.7967\n",
            "Epoch 10/30\n",
            "439/439 [==============================] - ETA: 0s - loss: 0.1468 - accuracy: 0.8234WARNING:tensorflow:Can save best model only with val_acc available, skipping.\n",
            "439/439 [==============================] - 34s 77ms/step - loss: 0.1468 - accuracy: 0.8234 - val_loss: 0.1565 - val_accuracy: 0.8083\n",
            "Epoch 11/30\n",
            "439/439 [==============================] - ETA: 0s - loss: 0.1421 - accuracy: 0.8261WARNING:tensorflow:Can save best model only with val_acc available, skipping.\n",
            "439/439 [==============================] - 34s 77ms/step - loss: 0.1421 - accuracy: 0.8261 - val_loss: 0.1656 - val_accuracy: 0.8007\n",
            "Epoch 12/30\n",
            "439/439 [==============================] - ETA: 0s - loss: 0.1365 - accuracy: 0.8355WARNING:tensorflow:Can save best model only with val_acc available, skipping.\n",
            "439/439 [==============================] - 34s 77ms/step - loss: 0.1365 - accuracy: 0.8355 - val_loss: 0.1515 - val_accuracy: 0.8133\n",
            "Epoch 13/30\n",
            "439/439 [==============================] - ETA: 0s - loss: 0.1350 - accuracy: 0.8365WARNING:tensorflow:Can save best model only with val_acc available, skipping.\n",
            "439/439 [==============================] - 34s 77ms/step - loss: 0.1350 - accuracy: 0.8365 - val_loss: 0.1789 - val_accuracy: 0.7723\n",
            "Epoch 14/30\n",
            "439/439 [==============================] - ETA: 0s - loss: 0.1312 - accuracy: 0.8429WARNING:tensorflow:Can save best model only with val_acc available, skipping.\n",
            "439/439 [==============================] - 34s 77ms/step - loss: 0.1312 - accuracy: 0.8429 - val_loss: 0.1410 - val_accuracy: 0.8323\n",
            "Epoch 15/30\n",
            "439/439 [==============================] - ETA: 0s - loss: 0.1256 - accuracy: 0.8482WARNING:tensorflow:Can save best model only with val_acc available, skipping.\n",
            "439/439 [==============================] - 34s 77ms/step - loss: 0.1256 - accuracy: 0.8482 - val_loss: 0.1541 - val_accuracy: 0.8270\n",
            "Epoch 16/30\n",
            "439/439 [==============================] - ETA: 0s - loss: 0.1257 - accuracy: 0.8528WARNING:tensorflow:Can save best model only with val_acc available, skipping.\n",
            "439/439 [==============================] - 34s 77ms/step - loss: 0.1257 - accuracy: 0.8528 - val_loss: 0.1855 - val_accuracy: 0.7877\n",
            "Epoch 17/30\n",
            "439/439 [==============================] - ETA: 0s - loss: 0.1212 - accuracy: 0.8549WARNING:tensorflow:Can save best model only with val_acc available, skipping.\n",
            "439/439 [==============================] - 34s 78ms/step - loss: 0.1212 - accuracy: 0.8549 - val_loss: 0.1848 - val_accuracy: 0.7903\n",
            "Epoch 18/30\n",
            "439/439 [==============================] - ETA: 0s - loss: 0.1216 - accuracy: 0.8542WARNING:tensorflow:Can save best model only with val_acc available, skipping.\n",
            "439/439 [==============================] - 34s 77ms/step - loss: 0.1216 - accuracy: 0.8542 - val_loss: 0.1634 - val_accuracy: 0.8130\n",
            "Epoch 19/30\n",
            "439/439 [==============================] - ETA: 0s - loss: 0.1189 - accuracy: 0.8578WARNING:tensorflow:Can save best model only with val_acc available, skipping.\n",
            "439/439 [==============================] - 34s 77ms/step - loss: 0.1189 - accuracy: 0.8578 - val_loss: 0.1437 - val_accuracy: 0.8280\n",
            "Epoch 20/30\n",
            "439/439 [==============================] - ETA: 0s - loss: 0.1124 - accuracy: 0.8625WARNING:tensorflow:Can save best model only with val_acc available, skipping.\n",
            "439/439 [==============================] - 34s 77ms/step - loss: 0.1124 - accuracy: 0.8625 - val_loss: 0.1673 - val_accuracy: 0.8090\n",
            "Epoch 21/30\n",
            "439/439 [==============================] - ETA: 0s - loss: 0.1157 - accuracy: 0.8633WARNING:tensorflow:Can save best model only with val_acc available, skipping.\n",
            "439/439 [==============================] - 34s 77ms/step - loss: 0.1157 - accuracy: 0.8633 - val_loss: 0.1815 - val_accuracy: 0.7913\n",
            "Epoch 22/30\n",
            "439/439 [==============================] - ETA: 0s - loss: 0.1135 - accuracy: 0.8640WARNING:tensorflow:Can save best model only with val_acc available, skipping.\n",
            "439/439 [==============================] - 34s 77ms/step - loss: 0.1135 - accuracy: 0.8640 - val_loss: 0.1771 - val_accuracy: 0.8067\n",
            "Epoch 23/30\n",
            "439/439 [==============================] - ETA: 0s - loss: 0.1112 - accuracy: 0.8692WARNING:tensorflow:Can save best model only with val_acc available, skipping.\n",
            "439/439 [==============================] - 34s 77ms/step - loss: 0.1112 - accuracy: 0.8692 - val_loss: 0.1389 - val_accuracy: 0.8490\n",
            "Epoch 24/30\n",
            "439/439 [==============================] - ETA: 0s - loss: 0.1084 - accuracy: 0.8709WARNING:tensorflow:Can save best model only with val_acc available, skipping.\n",
            "439/439 [==============================] - 34s 77ms/step - loss: 0.1084 - accuracy: 0.8709 - val_loss: 0.1649 - val_accuracy: 0.8293\n",
            "Epoch 25/30\n",
            "439/439 [==============================] - ETA: 0s - loss: 0.1099 - accuracy: 0.8709WARNING:tensorflow:Can save best model only with val_acc available, skipping.\n",
            "439/439 [==============================] - 34s 77ms/step - loss: 0.1099 - accuracy: 0.8709 - val_loss: 0.1521 - val_accuracy: 0.8240\n",
            "Epoch 26/30\n",
            "439/439 [==============================] - ETA: 0s - loss: 0.1037 - accuracy: 0.8791WARNING:tensorflow:Can save best model only with val_acc available, skipping.\n",
            "439/439 [==============================] - 34s 77ms/step - loss: 0.1037 - accuracy: 0.8791 - val_loss: 0.1778 - val_accuracy: 0.8013\n",
            "Epoch 27/30\n",
            "439/439 [==============================] - ETA: 0s - loss: 0.1060 - accuracy: 0.8737WARNING:tensorflow:Can save best model only with val_acc available, skipping.\n",
            "439/439 [==============================] - 34s 77ms/step - loss: 0.1060 - accuracy: 0.8737 - val_loss: 0.1766 - val_accuracy: 0.8157\n",
            "Epoch 28/30\n",
            "439/439 [==============================] - ETA: 0s - loss: 0.1007 - accuracy: 0.8839WARNING:tensorflow:Can save best model only with val_acc available, skipping.\n",
            "439/439 [==============================] - 34s 77ms/step - loss: 0.1007 - accuracy: 0.8839 - val_loss: 0.1499 - val_accuracy: 0.8267\n",
            "Epoch 29/30\n",
            "439/439 [==============================] - ETA: 0s - loss: 0.1005 - accuracy: 0.8821WARNING:tensorflow:Can save best model only with val_acc available, skipping.\n",
            "439/439 [==============================] - 35s 79ms/step - loss: 0.1005 - accuracy: 0.8821 - val_loss: 0.1737 - val_accuracy: 0.8150\n",
            "Epoch 30/30\n",
            "439/439 [==============================] - ETA: 0s - loss: 0.1021 - accuracy: 0.8826WARNING:tensorflow:Can save best model only with val_acc available, skipping.\n",
            "439/439 [==============================] - 34s 78ms/step - loss: 0.1021 - accuracy: 0.8826 - val_loss: 0.1825 - val_accuracy: 0.8117\n"
          ]
        }
      ],
      "source": [
        "history = model.fit_generator(train_gen,epochs=30,verbose=1,validation_data=val_gen,callbacks=[bestmodel])"
      ]
    },
    {
      "cell_type": "code",
      "execution_count": 16,
      "metadata": {
        "id": "hojs5xmWo8CY",
        "colab": {
          "base_uri": "https://localhost:8080/",
          "height": 458
        },
        "outputId": "e9a0541d-c0b4-477a-c553-2186585f56e5"
      },
      "outputs": [
        {
          "output_type": "display_data",
          "data": {
            "image/png": "[encoded data removed]",
            "text/plain": [
              "<Figure size 1008x504 with 1 Axes>"
            ]
          },
          "metadata": {
            "needs_background": "light"
          }
        }
      ],
      "source": [
        "acc=history.history['accuracy']\n",
        "val_acc=history.history['val_accuracy']\n",
        "loss=history.history['loss']\n",
        "val_loss=history.history['val_loss']\n",
        "\n",
        "epochs=range(len(acc))\n",
        "\n",
        "fig = plt.figure(figsize=(14,7))\n",
        "plt.plot(epochs, acc, 'r', label=\"Training Accuracy\")\n",
        "plt.plot(epochs, val_acc, 'b', label=\"Validation Accuracy\")\n",
        "plt.xlabel('Epoch')\n",
        "plt.ylabel('Accuracy')\n",
        "plt.title('Training and validation accuracy')\n",
        "plt.legend(loc='lower right')\n",
        "plt.show()"
      ]
    },
    {
      "cell_type": "code",
      "execution_count": 17,
      "metadata": {
        "id": "xz_M1CzdG56M",
        "colab": {
          "base_uri": "https://localhost:8080/",
          "height": 475
        },
        "outputId": "31f99bdc-6679-4fb4-e691-a97a596b7e14"
      },
      "outputs": [
        {
          "output_type": "execute_result",
          "data": {
            "text/plain": [
              "Text(0.5, 1.0, 'Training and validation loss')"
            ]
          },
          "metadata": {},
          "execution_count": 17
        },
        {
          "output_type": "display_data",
          "data": {
            "image/png": "[encoded data removed]",
            "text/plain": [
              "<Figure size 1008x504 with 1 Axes>"
            ]
          },
          "metadata": {
            "needs_background": "light"
          }
        }
      ],
      "source": [
        "fig2 = plt.figure(figsize=(14,7))\n",
        "plt.plot(epochs, loss, 'r', label=\"Training Loss\")\n",
        "plt.plot(epochs, val_loss, 'b', label=\"Validation Loss\")\n",
        "plt.legend(loc='upper right')\n",
        "plt.xlabel('Epoch')\n",
        "plt.ylabel('Loss')\n",
        "plt.title('Training and validation loss')"
      ]
    },
    {
      "cell_type": "code",
      "execution_count": 18,
      "metadata": {
        "id": "7FV96kQZHGoA"
      },
      "outputs": [],
      "source": [
        "import PIL\n",
        "import os\n",
        "from PIL import Image"
      ]
    },
    {
      "cell_type": "code",
      "source": [
        "f = r'/content/seg_pred/seg_pred'"
      ],
      "metadata": {
        "id": "1YmbYE-o0upJ"
      },
      "execution_count": 19,
      "outputs": []
    },
    {
      "cell_type": "code",
      "source": [
        "\n",
        "for file in os.listdir(f):\n",
        "    f_img = f+\"/\"+file\n",
        "    img = Image.open(f_img)\n",
        "    img = img.resize((img_height,img_width))\n",
        "    img.save(f_img)\n"
      ],
      "metadata": {
        "id": "x-6gtqic2hFH"
      },
      "execution_count": 20,
      "outputs": []
    },
    {
      "cell_type": "code",
      "source": [
        "from tensorflow.keras.models import Model\n",
        "from tensorflow.keras.models import load_model"
      ],
      "metadata": {
        "id": "w2VfFzWt2t9O"
      },
      "execution_count": 21,
      "outputs": []
    },
    {
      "cell_type": "code",
      "source": [
        ""
      ],
      "metadata": {
        "id": "5bDJMN_O3NCf"
      },
      "execution_count": 21,
      "outputs": []
    },
    {
      "cell_type": "code",
      "source": [
        ""
      ],
      "metadata": {
        "id": "E6V40SAm3tkj"
      },
      "execution_count": 21,
      "outputs": []
    }
  ],
  "metadata": {
    "accelerator": "GPU",
    "colab": {
      "collapsed_sections": [],
      "name": "IntelImageClassification.ipynb",
      "provenance": [],
      "authorship_tag": "ABX9TyMeqwg7qmHo+LXnlLJ9pLoT",
      "include_colab_link": true
    },
    "kernelspec": {
      "display_name": "Python 3",
      "name": "python3"
    },
    "language_info": {
      "name": "python"
    }
  },
  "nbformat": 4,
  "nbformat_minor": 0
}