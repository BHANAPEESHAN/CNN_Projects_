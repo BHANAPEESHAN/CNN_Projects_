{
  "nbformat": 4,
  "nbformat_minor": 0,
  "metadata": {
    "colab": {
      "name": "TL_Models_Evaluation.ipynb",
      "provenance": [],
      "collapsed_sections": [],
      "authorship_tag": "ABX9TyPOw3vghFQSD1ctaqwTFo3f",
      "include_colab_link": true
    },
    "kernelspec": {
      "name": "python3",
      "display_name": "Python 3"
    },
    "language_info": {
      "name": "python"
    },
    "accelerator": "GPU"
  },
  "cells": [
    {
      "cell_type": "markdown",
      "metadata": {
        "id": "view-in-github",
        "colab_type": "text"
      },
      "source": [
        "<a href=\"https://colab.research.google.com/github/BHANAPEESHAN/CNN_Projects_/blob/main/TL_Models_Evaluation.ipynb\" target=\"_parent\"><img src=\"https://colab.research.google.com/assets/colab-badge.svg\" alt=\"Open In Colab\"/></a>"
      ]
    },
    {
      "cell_type": "code",
      "execution_count": 1,
      "metadata": {
        "colab": {
          "base_uri": "https://localhost:8080/"
        },
        "id": "gmZTIxRb_Uxv",
        "outputId": "52254737-a91b-43ab-b3a7-571376124e83"
      },
      "outputs": [
        {
          "output_type": "stream",
          "name": "stdout",
          "text": [
            "Downloading musical-instruments-image-classification.zip to /content\n",
            " 91% 186M/204M [00:05<00:00, 34.8MB/s]\n",
            "100% 204M/204M [00:05<00:00, 41.3MB/s]\n"
          ]
        }
      ],
      "source": [
        "import os\n",
        "os.environ['KAGGLE_USERNAME']=\"bhanapeeshan\"\n",
        "os.environ['KAGGLE_KEY']=\"646853511eaba7e71ae9a0d4d3c4af8a\"\n",
        "!kaggle datasets download -d gpiosenka/musical-instruments-image-classification"
      ]
    },
    {
      "cell_type": "code",
      "source": [
        "from zipfile import ZipFile\n",
        "file_name = \"/content/musical-instruments-image-classification.zip\"\n",
        "with ZipFile(file_name,'r') as zip:\n",
        "  zip.extractall()\n",
        "  print('Done Unzipping')"
      ],
      "metadata": {
        "colab": {
          "base_uri": "https://localhost:8080/"
        },
        "id": "ulH7zI__Bsdi",
        "outputId": "f895f1d4-2c33-44ca-8b67-ec2c2288e5dd"
      },
      "execution_count": 2,
      "outputs": [
        {
          "output_type": "stream",
          "name": "stdout",
          "text": [
            "Done Unzipping\n"
          ]
        }
      ]
    },
    {
      "cell_type": "code",
      "source": [
        "import warnings\n",
        "warnings.filterwarnings('ignore')\n",
        "data_dir_list=os.listdir(\"/content/train\")\n",
        "print(data_dir_list)\n",
        "path,dirs,files=next(os.walk(\"/content/train\"))\n",
        "file_count=len(files)"
      ],
      "metadata": {
        "colab": {
          "base_uri": "https://localhost:8080/"
        },
        "id": "zk4NbuWCB6iZ",
        "outputId": "be014b92-d85d-4db9-aafb-c64cde148b90"
      },
      "execution_count": 3,
      "outputs": [
        {
          "output_type": "stream",
          "name": "stdout",
          "text": [
            "['casaba', 'bagpipes', 'concertina', 'Tambourine', 'harp', 'trombone', 'Xylophone', 'sitar', 'tuba', 'clarinet', 'dulcimer', 'alphorn', 'clavichord', 'guitar', 'piano', 'saxaphone', 'ocarina', 'bongo drum', 'banjo', 'trumpet', 'Didgeridoo', 'harmonica', 'guiro', 'flute', 'castanets', 'steel drum', 'acordian', 'marakas', 'violin', 'drums']\n"
          ]
        }
      ]
    },
    {
      "cell_type": "code",
      "source": [
        "len(data_dir_list)"
      ],
      "metadata": {
        "colab": {
          "base_uri": "https://localhost:8080/"
        },
        "id": "uo8FXRmGCMeC",
        "outputId": "9889a6d7-fd16-4e76-e55d-4f858b8198e9"
      },
      "execution_count": 4,
      "outputs": [
        {
          "output_type": "execute_result",
          "data": {
            "text/plain": [
              "30"
            ]
          },
          "metadata": {},
          "execution_count": 4
        }
      ]
    },
    {
      "cell_type": "code",
      "source": [
        "import tensorflow as tf\n",
        "import pandas as pd\n",
        "import matplotlib.pyplot as plt\n",
        "import inspect\n",
        "from tqdm import tqdm\n",
        "batch_size=32"
      ],
      "metadata": {
        "id": "cVqzn0J6CQAJ"
      },
      "execution_count": 5,
      "outputs": []
    },
    {
      "cell_type": "code",
      "source": [
        "!nvidia-smi"
      ],
      "metadata": {
        "colab": {
          "base_uri": "https://localhost:8080/"
        },
        "id": "K0omr6AwCxnV",
        "outputId": "d72f421f-d052-45d7-84bb-4d70c7be85af"
      },
      "execution_count": 6,
      "outputs": [
        {
          "output_type": "stream",
          "name": "stdout",
          "text": [
            "Thu Mar  3 13:49:49 2022       \n",
            "+-----------------------------------------------------------------------------+\n",
            "| NVIDIA-SMI 460.32.03    Driver Version: 460.32.03    CUDA Version: 11.2     |\n",
            "|-------------------------------+----------------------+----------------------+\n",
            "| GPU  Name        Persistence-M| Bus-Id        Disp.A | Volatile Uncorr. ECC |\n",
            "| Fan  Temp  Perf  Pwr:Usage/Cap|         Memory-Usage | GPU-Util  Compute M. |\n",
            "|                               |                      |               MIG M. |\n",
            "|===============================+======================+======================|\n",
            "|   0  Tesla K80           Off  | 00000000:00:04.0 Off |                    0 |\n",
            "| N/A   49C    P8    32W / 149W |      0MiB / 11441MiB |      0%      Default |\n",
            "|                               |                      |                  N/A |\n",
            "+-------------------------------+----------------------+----------------------+\n",
            "                                                                               \n",
            "+-----------------------------------------------------------------------------+\n",
            "| Processes:                                                                  |\n",
            "|  GPU   GI   CI        PID   Type   Process name                  GPU Memory |\n",
            "|        ID   ID                                                   Usage      |\n",
            "|=============================================================================|\n",
            "|  No running processes found                                                 |\n",
            "+-----------------------------------------------------------------------------+\n"
          ]
        }
      ]
    },
    {
      "cell_type": "code",
      "source": [
        "\n",
        "# List all available models\n",
        "model_dictionary = {m[0]:m[1] for m in inspect.getmembers(tf.keras.applications, inspect.isfunction)}"
      ],
      "metadata": {
        "id": "GTS8Y7fYCz9m"
      },
      "execution_count": 7,
      "outputs": []
    },
    {
      "cell_type": "code",
      "source": [
        ""
      ],
      "metadata": {
        "id": "OcKIO7MNDIZp"
      },
      "execution_count": 15,
      "outputs": []
    },
    {
      "cell_type": "code",
      "source": [
        "from tensorflow.keras.preprocessing.image import ImageDataGenerator"
      ],
      "metadata": {
        "id": "DaOwVbIzDoST"
      },
      "execution_count": 11,
      "outputs": []
    },
    {
      "cell_type": "code",
      "source": [
        ""
      ],
      "metadata": {
        "id": "yB8FPl8ZDfGt"
      },
      "execution_count": 15,
      "outputs": []
    },
    {
      "cell_type": "code",
      "source": [
        ""
      ],
      "metadata": {
        "id": "G8GhKIfcDr2x"
      },
      "execution_count": 15,
      "outputs": []
    },
    {
      "cell_type": "code",
      "source": [
        "model_dictionary"
      ],
      "metadata": {
        "colab": {
          "base_uri": "https://localhost:8080/"
        },
        "id": "ZuTlxHESEOLo",
        "outputId": "8035775c-e453-4b5d-c5a9-345a120473e6"
      },
      "execution_count": 14,
      "outputs": [
        {
          "output_type": "execute_result",
          "data": {
            "text/plain": [
              "{'DenseNet121': <function keras.applications.densenet.DenseNet121>,\n",
              " 'DenseNet169': <function keras.applications.densenet.DenseNet169>,\n",
              " 'DenseNet201': <function keras.applications.densenet.DenseNet201>,\n",
              " 'EfficientNetB0': <function keras.applications.efficientnet.EfficientNetB0>,\n",
              " 'EfficientNetB1': <function keras.applications.efficientnet.EfficientNetB1>,\n",
              " 'EfficientNetB2': <function keras.applications.efficientnet.EfficientNetB2>,\n",
              " 'EfficientNetB3': <function keras.applications.efficientnet.EfficientNetB3>,\n",
              " 'EfficientNetB4': <function keras.applications.efficientnet.EfficientNetB4>,\n",
              " 'EfficientNetB5': <function keras.applications.efficientnet.EfficientNetB5>,\n",
              " 'EfficientNetB6': <function keras.applications.efficientnet.EfficientNetB6>,\n",
              " 'EfficientNetB7': <function keras.applications.efficientnet.EfficientNetB7>,\n",
              " 'EfficientNetV2B0': <function keras.applications.efficientnet_v2.EfficientNetV2B0>,\n",
              " 'EfficientNetV2B1': <function keras.applications.efficientnet_v2.EfficientNetV2B1>,\n",
              " 'EfficientNetV2B2': <function keras.applications.efficientnet_v2.EfficientNetV2B2>,\n",
              " 'EfficientNetV2B3': <function keras.applications.efficientnet_v2.EfficientNetV2B3>,\n",
              " 'EfficientNetV2L': <function keras.applications.efficientnet_v2.EfficientNetV2L>,\n",
              " 'EfficientNetV2M': <function keras.applications.efficientnet_v2.EfficientNetV2M>,\n",
              " 'EfficientNetV2S': <function keras.applications.efficientnet_v2.EfficientNetV2S>,\n",
              " 'InceptionResNetV2': <function keras.applications.inception_resnet_v2.InceptionResNetV2>,\n",
              " 'InceptionV3': <function keras.applications.inception_v3.InceptionV3>,\n",
              " 'MobileNet': <function keras.applications.mobilenet.MobileNet>,\n",
              " 'MobileNetV2': <function keras.applications.mobilenet_v2.MobileNetV2>,\n",
              " 'MobileNetV3Large': <function keras.applications.mobilenet_v3.MobileNetV3Large>,\n",
              " 'MobileNetV3Small': <function keras.applications.mobilenet_v3.MobileNetV3Small>,\n",
              " 'NASNetLarge': <function keras.applications.nasnet.NASNetLarge>,\n",
              " 'NASNetMobile': <function keras.applications.nasnet.NASNetMobile>,\n",
              " 'ResNet101': <function keras.applications.resnet.ResNet101>,\n",
              " 'ResNet101V2': <function keras.applications.resnet_v2.ResNet101V2>,\n",
              " 'ResNet152': <function keras.applications.resnet.ResNet152>,\n",
              " 'ResNet152V2': <function keras.applications.resnet_v2.ResNet152V2>,\n",
              " 'ResNet50': <function keras.applications.resnet.ResNet50>,\n",
              " 'ResNet50V2': <function keras.applications.resnet_v2.ResNet50V2>,\n",
              " 'VGG16': <function keras.applications.vgg16.VGG16>,\n",
              " 'VGG19': <function keras.applications.vgg19.VGG19>,\n",
              " 'Xception': <function keras.applications.xception.Xception>}"
            ]
          },
          "metadata": {},
          "execution_count": 14
        }
      ]
    },
    {
      "cell_type": "code",
      "source": [
        "def preprocess_data(train, validation, batch_size, img_size):\n",
        "    \n",
        "    train_datagen=ImageDataGenerator(rescale=1/255.0,rotation_range=0.4,horizontal_flip=True,vertical_flip=True,shear_range=0.3,zoom_range=0.25)\n",
        "    train_gen=train_datagen.flow_from_directory(train,\n",
        "                                            batch_size=batch_size,\n",
        "                                            class_mode='categorical',\n",
        "                                            target_size=img_size)\n",
        "   \n",
        "    val_datagen=ImageDataGenerator(rescale=1/255.0)\n",
        "    val_gen=val_datagen.flow_from_directory(validation,\n",
        "                                            batch_size=batch_size,\n",
        "                                            class_mode='categorical',\n",
        "                                            target_size=img_size)\n",
        "    return train_gen,val_gen\n",
        "\n",
        "train_processed_224, validation_processed_224 = preprocess_data( \"/content/train\", \"/content/valid\", batch_size=batch_size, img_size=[224,224])\n",
        "train_processed_331, validation_processed_331 = preprocess_data( \"/content/train\", \"/content/valid\", batch_size=batch_size, img_size=[331,331])\n"
      ],
      "metadata": {
        "colab": {
          "base_uri": "https://localhost:8080/"
        },
        "id": "kevgZFckFUgR",
        "outputId": "396b78d5-e54a-41b4-99de-3cbc97d0925c"
      },
      "execution_count": 17,
      "outputs": [
        {
          "output_type": "stream",
          "name": "stdout",
          "text": [
            "Found 4793 images belonging to 30 classes.\n",
            "Found 150 images belonging to 30 classes.\n",
            "Found 4793 images belonging to 30 classes.\n",
            "Found 150 images belonging to 30 classes.\n"
          ]
        }
      ]
    },
    {
      "cell_type": "code",
      "source": [
        "number=0\n",
        "for i in data_dir_list:\n",
        "  number=number+len(os.listdir(\"/content/train/\"+i+\"/\"))\n",
        "number"
      ],
      "metadata": {
        "colab": {
          "base_uri": "https://localhost:8080/"
        },
        "id": "qG0ETh22I_55",
        "outputId": "45343c82-644a-4bca-fbc1-db66db1b6378"
      },
      "execution_count": 19,
      "outputs": [
        {
          "output_type": "execute_result",
          "data": {
            "text/plain": [
              "4793"
            ]
          },
          "metadata": {},
          "execution_count": 19
        }
      ]
    },
    {
      "cell_type": "code",
      "source": [
        "\n",
        "\n",
        "num_train = number\n",
        "num_iterations = int(num_train/batch_size)\n",
        "\n",
        "# Loop over each model available in Keras\n",
        "model_benchmarks = {'model_name': [], 'num_model_params': [], 'validation_accuracy': []}\n",
        "\n",
        "for model_name, model in tqdm(model_dictionary.items()):\n",
        "    # Special handling for \"NASNetLarge\" since it requires input images with size (331,331)\n",
        "    if 'NASNetLarge' in model_name:\n",
        "        input_shape=(331,331,3)\n",
        "        train_gen = train_processed_331\n",
        "        val_gen = validation_processed_331\n",
        "    else:\n",
        "        input_shape=(224,224,3)\n",
        "        train_gen = train_processed_224\n",
        "        val_gen= validation_processed_224\n",
        "        \n",
        "    # load the pre-trained model with global average pooling as the last layer and freeze the model weights\n",
        "    pre_trained_model = model(include_top=False, pooling='avg', input_shape=input_shape)\n",
        "    pre_trained_model.trainable = False\n",
        "    \n",
        "    # custom modifications on top of pre-trained model and fit\n",
        "    clf_model = tf.keras.models.Sequential()\n",
        "    clf_model.add(pre_trained_model)\n",
        "    clf_model.add(tf.keras.layers.Dense(len(data_dir_list), activation='softmax'))\n",
        "    clf_model.compile(loss='categorical_crossentropy', metrics=['accuracy'])\n",
        "    history = clf_model.fit(train_gen, epochs=3, validation_data=val_gen, steps_per_epoch=num_iterations)\n",
        "    \n",
        "    # Calculate all relevant metrics\n",
        "    model_benchmarks['model_name'].append(model_name)\n",
        "    model_benchmarks['num_model_params'].append(pre_trained_model.count_params())\n",
        "    model_benchmarks['validation_accuracy'].append(history.history['val_accuracy'][-1])"
      ],
      "metadata": {
        "colab": {
          "base_uri": "https://localhost:8080/"
        },
        "id": "yF6wv4KqEf5k",
        "outputId": "254ed1db-e745-4665-9389-b25f6bb33b0e"
      },
      "execution_count": 20,
      "outputs": [
        {
          "output_type": "stream",
          "name": "stderr",
          "text": [
            "\r  0%|          | 0/35 [00:00<?, ?it/s]"
          ]
        },
        {
          "output_type": "stream",
          "name": "stdout",
          "text": [
            "Downloading data from https://storage.googleapis.com/tensorflow/keras-applications/densenet/densenet121_weights_tf_dim_ordering_tf_kernels_notop.h5\n",
            "29089792/29084464 [==============================] - 0s 0us/step\n",
            "29097984/29084464 [==============================] - 0s 0us/step\n",
            "Epoch 1/3\n",
            "149/149 [==============================] - 101s 557ms/step - loss: 1.4606 - accuracy: 0.6343 - val_loss: 0.3214 - val_accuracy: 0.9200\n",
            "Epoch 2/3\n",
            "149/149 [==============================] - 72s 481ms/step - loss: 0.4372 - accuracy: 0.8943 - val_loss: 0.1158 - val_accuracy: 0.9733\n",
            "Epoch 3/3\n",
            "149/149 [==============================] - 71s 474ms/step - loss: 0.2785 - accuracy: 0.9265 - val_loss: 0.0780 - val_accuracy: 0.9867\n"
          ]
        },
        {
          "output_type": "stream",
          "name": "stderr",
          "text": [
            "\r  3%|▎         | 1/35 [05:22<3:03:01, 322.97s/it]"
          ]
        },
        {
          "output_type": "stream",
          "name": "stdout",
          "text": [
            "Downloading data from https://storage.googleapis.com/tensorflow/keras-applications/densenet/densenet169_weights_tf_dim_ordering_tf_kernels_notop.h5\n",
            "51879936/51877672 [==============================] - 0s 0us/step\n",
            "51888128/51877672 [==============================] - 0s 0us/step\n",
            "Epoch 1/3\n",
            "149/149 [==============================] - 92s 537ms/step - loss: 1.1717 - accuracy: 0.7255 - val_loss: 0.1831 - val_accuracy: 0.9467\n",
            "Epoch 2/3\n",
            "149/149 [==============================] - 74s 495ms/step - loss: 0.3141 - accuracy: 0.9219 - val_loss: 0.0648 - val_accuracy: 0.9933\n",
            "Epoch 3/3\n",
            "149/149 [==============================] - 73s 490ms/step - loss: 0.2062 - accuracy: 0.9462 - val_loss: 0.0436 - val_accuracy: 0.9800\n"
          ]
        },
        {
          "output_type": "stream",
          "name": "stderr",
          "text": [
            "\r  6%|▌         | 2/35 [09:39<2:36:06, 283.82s/it]"
          ]
        },
        {
          "output_type": "stream",
          "name": "stdout",
          "text": [
            "Downloading data from https://storage.googleapis.com/tensorflow/keras-applications/densenet/densenet201_weights_tf_dim_ordering_tf_kernels_notop.h5\n",
            "74842112/74836368 [==============================] - 2s 0us/step\n",
            "74850304/74836368 [==============================] - 2s 0us/step\n",
            "Epoch 1/3\n",
            "149/149 [==============================] - 97s 555ms/step - loss: 1.2163 - accuracy: 0.7198 - val_loss: 0.1803 - val_accuracy: 0.9533\n",
            "Epoch 2/3\n",
            "149/149 [==============================] - 78s 524ms/step - loss: 0.2995 - accuracy: 0.9277 - val_loss: 0.0580 - val_accuracy: 0.9867\n",
            "Epoch 3/3\n",
            "149/149 [==============================] - 78s 522ms/step - loss: 0.1914 - accuracy: 0.9504 - val_loss: 0.0529 - val_accuracy: 0.9867\n"
          ]
        },
        {
          "output_type": "stream",
          "name": "stderr",
          "text": [
            "\r  9%|▊         | 3/35 [15:03<2:41:13, 302.29s/it]"
          ]
        },
        {
          "output_type": "stream",
          "name": "stdout",
          "text": [
            "Downloading data from https://storage.googleapis.com/keras-applications/efficientnetb0_notop.h5\n",
            "16711680/16705208 [==============================] - 0s 0us/step\n",
            "16719872/16705208 [==============================] - 0s 0us/step\n",
            "Epoch 1/3\n",
            "149/149 [==============================] - 75s 444ms/step - loss: 3.4010 - accuracy: 0.0477 - val_loss: 3.4350 - val_accuracy: 0.0333\n",
            "Epoch 2/3\n",
            "149/149 [==============================] - 64s 426ms/step - loss: 3.3998 - accuracy: 0.0487 - val_loss: 3.4314 - val_accuracy: 0.0333\n",
            "Epoch 3/3\n",
            "149/149 [==============================] - 64s 429ms/step - loss: 3.3941 - accuracy: 0.0536 - val_loss: 3.4382 - val_accuracy: 0.0333\n"
          ]
        },
        {
          "output_type": "stream",
          "name": "stderr",
          "text": [
            "\r 11%|█▏        | 4/35 [19:02<2:23:11, 277.13s/it]"
          ]
        },
        {
          "output_type": "stream",
          "name": "stdout",
          "text": [
            "Downloading data from https://storage.googleapis.com/keras-applications/efficientnetb1_notop.h5\n",
            "27025408/27018416 [==============================] - 1s 0us/step\n",
            "27033600/27018416 [==============================] - 1s 0us/step\n",
            "Epoch 1/3\n",
            "149/149 [==============================] - 81s 471ms/step - loss: 3.4085 - accuracy: 0.0460 - val_loss: 3.4465 - val_accuracy: 0.0333\n",
            "Epoch 2/3\n",
            "149/149 [==============================] - 67s 448ms/step - loss: 3.4021 - accuracy: 0.0510 - val_loss: 3.4567 - val_accuracy: 0.0333\n",
            "Epoch 3/3\n",
            "149/149 [==============================] - 67s 449ms/step - loss: 3.4042 - accuracy: 0.0510 - val_loss: 3.4485 - val_accuracy: 0.0333\n"
          ]
        },
        {
          "output_type": "stream",
          "name": "stderr",
          "text": [
            "\r 14%|█▍        | 5/35 [22:55<2:10:37, 261.24s/it]"
          ]
        },
        {
          "output_type": "stream",
          "name": "stdout",
          "text": [
            "Downloading data from https://storage.googleapis.com/keras-applications/efficientnetb2_notop.h5\n",
            "31793152/31790344 [==============================] - 0s 0us/step\n",
            "31801344/31790344 [==============================] - 0s 0us/step\n",
            "Epoch 1/3\n",
            "149/149 [==============================] - 82s 476ms/step - loss: 3.4165 - accuracy: 0.0485 - val_loss: 3.4488 - val_accuracy: 0.0333\n",
            "Epoch 2/3\n",
            "149/149 [==============================] - 67s 451ms/step - loss: 3.4146 - accuracy: 0.0439 - val_loss: 3.4690 - val_accuracy: 0.0333\n",
            "Epoch 3/3\n",
            "149/149 [==============================] - 68s 455ms/step - loss: 3.4096 - accuracy: 0.0529 - val_loss: 3.4573 - val_accuracy: 0.0333\n"
          ]
        },
        {
          "output_type": "stream",
          "name": "stderr",
          "text": [
            "\r 17%|█▋        | 6/35 [26:48<2:01:39, 251.72s/it]"
          ]
        },
        {
          "output_type": "stream",
          "name": "stdout",
          "text": [
            "Downloading data from https://storage.googleapis.com/keras-applications/efficientnetb3_notop.h5\n",
            "43941888/43941136 [==============================] - 1s 0us/step\n",
            "43950080/43941136 [==============================] - 1s 0us/step\n",
            "Epoch 1/3\n",
            "149/149 [==============================] - 90s 512ms/step - loss: 3.4444 - accuracy: 0.0481 - val_loss: 3.5067 - val_accuracy: 0.0333\n",
            "Epoch 2/3\n",
            "149/149 [==============================] - 72s 480ms/step - loss: 3.4346 - accuracy: 0.0515 - val_loss: 3.4622 - val_accuracy: 0.0333\n",
            "Epoch 3/3\n",
            "149/149 [==============================] - 72s 481ms/step - loss: 3.4310 - accuracy: 0.0439 - val_loss: 3.4828 - val_accuracy: 0.0333\n"
          ]
        },
        {
          "output_type": "stream",
          "name": "stderr",
          "text": [
            "\r 20%|██        | 7/35 [30:48<1:55:39, 247.83s/it]"
          ]
        },
        {
          "output_type": "stream",
          "name": "stdout",
          "text": [
            "Downloading data from https://storage.googleapis.com/keras-applications/efficientnetb4_notop.h5\n",
            "71688192/71686520 [==============================] - 2s 0us/step\n",
            "71696384/71686520 [==============================] - 2s 0us/step\n",
            "Epoch 1/3\n",
            "149/149 [==============================] - 99s 554ms/step - loss: 3.4522 - accuracy: 0.0475 - val_loss: 3.5140 - val_accuracy: 0.0333\n",
            "Epoch 2/3\n",
            "149/149 [==============================] - 77s 517ms/step - loss: 3.4454 - accuracy: 0.0456 - val_loss: 3.5220 - val_accuracy: 0.0333\n",
            "Epoch 3/3\n",
            "149/149 [==============================] - 77s 514ms/step - loss: 3.4430 - accuracy: 0.0454 - val_loss: 3.4713 - val_accuracy: 0.0333\n"
          ]
        },
        {
          "output_type": "stream",
          "name": "stderr",
          "text": [
            "\r 23%|██▎       | 8/35 [36:08<2:01:54, 270.90s/it]"
          ]
        },
        {
          "output_type": "stream",
          "name": "stdout",
          "text": [
            "Downloading data from https://storage.googleapis.com/keras-applications/efficientnetb5_notop.h5\n",
            "115269632/115263384 [==============================] - 1s 0us/step\n",
            "115277824/115263384 [==============================] - 1s 0us/step\n",
            "Epoch 1/3\n",
            "149/149 [==============================] - 113s 623ms/step - loss: 3.4646 - accuracy: 0.0420 - val_loss: 3.5031 - val_accuracy: 0.0333\n",
            "Epoch 2/3\n",
            "149/149 [==============================] - 87s 579ms/step - loss: 3.4549 - accuracy: 0.0452 - val_loss: 3.4941 - val_accuracy: 0.0333\n",
            "Epoch 3/3\n",
            "149/149 [==============================] - 87s 582ms/step - loss: 3.4523 - accuracy: 0.0410 - val_loss: 3.5022 - val_accuracy: 0.0333\n"
          ]
        },
        {
          "output_type": "stream",
          "name": "stderr",
          "text": [
            "\r 26%|██▌       | 9/35 [43:41<2:21:59, 327.68s/it]"
          ]
        },
        {
          "output_type": "stream",
          "name": "stdout",
          "text": [
            "Downloading data from https://storage.googleapis.com/keras-applications/efficientnetb6_notop.h5\n",
            "165240832/165234480 [==============================] - 5s 0us/step\n",
            "165249024/165234480 [==============================] - 5s 0us/step\n",
            "Epoch 1/3\n",
            "149/149 [==============================] - 127s 696ms/step - loss: 3.4678 - accuracy: 0.0466 - val_loss: 3.4762 - val_accuracy: 0.0400\n",
            "Epoch 2/3\n",
            "149/149 [==============================] - 98s 653ms/step - loss: 3.4459 - accuracy: 0.0498 - val_loss: 3.4455 - val_accuracy: 0.0333\n",
            "Epoch 3/3\n",
            "149/149 [==============================] - 97s 650ms/step - loss: 3.4460 - accuracy: 0.0426 - val_loss: 3.4667 - val_accuracy: 0.0333\n"
          ]
        },
        {
          "output_type": "stream",
          "name": "stderr",
          "text": [
            "\r 29%|██▊       | 10/35 [49:54<2:22:21, 341.66s/it]"
          ]
        },
        {
          "output_type": "stream",
          "name": "stdout",
          "text": [
            "Downloading data from https://storage.googleapis.com/keras-applications/efficientnetb7_notop.h5\n",
            "258080768/258076736 [==============================] - 2s 0us/step\n",
            "258088960/258076736 [==============================] - 2s 0us/step\n",
            "Epoch 1/3\n",
            "149/149 [==============================] - 165s 922ms/step - loss: 3.5004 - accuracy: 0.0391 - val_loss: 3.5091 - val_accuracy: 0.0333\n",
            "Epoch 2/3\n",
            "149/149 [==============================] - 129s 862ms/step - loss: 3.4854 - accuracy: 0.0376 - val_loss: 3.6035 - val_accuracy: 0.0333\n",
            "Epoch 3/3\n",
            "149/149 [==============================] - 129s 861ms/step - loss: 3.4854 - accuracy: 0.0405 - val_loss: 3.5485 - val_accuracy: 0.0333\n"
          ]
        },
        {
          "output_type": "stream",
          "name": "stderr",
          "text": [
            "\r 31%|███▏      | 11/35 [57:25<2:30:08, 375.34s/it]"
          ]
        },
        {
          "output_type": "stream",
          "name": "stdout",
          "text": [
            "Downloading data from https://storage.googleapis.com/tensorflow/keras-applications/efficientnet_v2/efficientnetv2-b0_notop.h5\n",
            "24281088/24274472 [==============================] - 0s 0us/step\n",
            "24289280/24274472 [==============================] - 0s 0us/step\n",
            "Epoch 1/3\n",
            "149/149 [==============================] - 76s 455ms/step - loss: 3.4329 - accuracy: 0.0473 - val_loss: 3.4519 - val_accuracy: 0.0400\n",
            "Epoch 2/3\n",
            "149/149 [==============================] - 65s 434ms/step - loss: 3.4146 - accuracy: 0.0447 - val_loss: 3.4723 - val_accuracy: 0.0400\n",
            "Epoch 3/3\n",
            "149/149 [==============================] - 64s 428ms/step - loss: 3.4150 - accuracy: 0.0506 - val_loss: 3.4521 - val_accuracy: 0.0333\n"
          ]
        },
        {
          "output_type": "stream",
          "name": "stderr",
          "text": [
            "\r 34%|███▍      | 12/35 [1:01:25<2:08:02, 334.01s/it]"
          ]
        },
        {
          "output_type": "stream",
          "name": "stdout",
          "text": [
            "Downloading data from https://storage.googleapis.com/tensorflow/keras-applications/efficientnet_v2/efficientnetv2-b1_notop.h5\n",
            "28459008/28456008 [==============================] - 1s 0us/step\n",
            "28467200/28456008 [==============================] - 1s 0us/step\n",
            "Epoch 1/3\n",
            "149/149 [==============================] - 77s 456ms/step - loss: 3.4290 - accuracy: 0.0510 - val_loss: 3.4552 - val_accuracy: 0.0333\n",
            "Epoch 2/3\n",
            "149/149 [==============================] - 65s 434ms/step - loss: 3.4131 - accuracy: 0.0485 - val_loss: 3.4209 - val_accuracy: 0.0533\n",
            "Epoch 3/3\n",
            "149/149 [==============================] - 64s 431ms/step - loss: 3.4043 - accuracy: 0.0485 - val_loss: 3.4168 - val_accuracy: 0.0533\n"
          ]
        },
        {
          "output_type": "stream",
          "name": "stderr",
          "text": [
            "\r 37%|███▋      | 13/35 [1:05:46<1:54:25, 312.07s/it]"
          ]
        },
        {
          "output_type": "stream",
          "name": "stdout",
          "text": [
            "Downloading data from https://storage.googleapis.com/tensorflow/keras-applications/efficientnet_v2/efficientnetv2-b2_notop.h5\n",
            "35840000/35839040 [==============================] - 1s 0us/step\n",
            "35848192/35839040 [==============================] - 1s 0us/step\n",
            "Epoch 1/3\n",
            "149/149 [==============================] - 79s 465ms/step - loss: 3.4092 - accuracy: 0.0519 - val_loss: 3.4193 - val_accuracy: 0.0467\n",
            "Epoch 2/3\n",
            "149/149 [==============================] - 66s 443ms/step - loss: 3.3722 - accuracy: 0.0584 - val_loss: 3.3820 - val_accuracy: 0.0467\n",
            "Epoch 3/3\n",
            "149/149 [==============================] - 65s 435ms/step - loss: 3.3527 - accuracy: 0.0622 - val_loss: 3.3511 - val_accuracy: 0.0600\n"
          ]
        },
        {
          "output_type": "stream",
          "name": "stderr",
          "text": [
            "\r 40%|████      | 14/35 [1:09:36<1:40:27, 287.04s/it]"
          ]
        },
        {
          "output_type": "stream",
          "name": "stdout",
          "text": [
            "Downloading data from https://storage.googleapis.com/tensorflow/keras-applications/efficientnet_v2/efficientnetv2-b3_notop.h5\n",
            "52609024/52606240 [==============================] - 1s 0us/step\n",
            "52617216/52606240 [==============================] - 1s 0us/step\n",
            "Epoch 1/3\n",
            "149/149 [==============================] - 82s 475ms/step - loss: 3.4153 - accuracy: 0.0557 - val_loss: 3.4328 - val_accuracy: 0.0533\n",
            "Epoch 2/3\n",
            "149/149 [==============================] - 68s 453ms/step - loss: 3.3865 - accuracy: 0.0565 - val_loss: 3.4491 - val_accuracy: 0.0667\n",
            "Epoch 3/3\n",
            "149/149 [==============================] - 68s 456ms/step - loss: 3.3699 - accuracy: 0.0626 - val_loss: 3.4190 - val_accuracy: 0.0467\n"
          ]
        },
        {
          "output_type": "stream",
          "name": "stderr",
          "text": [
            "\r 43%|████▎     | 15/35 [1:13:35<1:30:52, 272.63s/it]"
          ]
        },
        {
          "output_type": "stream",
          "name": "stdout",
          "text": [
            "Downloading data from https://storage.googleapis.com/tensorflow/keras-applications/efficientnet_v2/efficientnetv2-l_notop.h5\n",
            "473178112/473176280 [==============================] - 11s 0us/step\n",
            "473186304/473176280 [==============================] - 11s 0us/step\n",
            "Epoch 1/3\n",
            "149/149 [==============================] - 176s 982ms/step - loss: 3.3754 - accuracy: 0.0618 - val_loss: 3.3867 - val_accuracy: 0.0400\n",
            "Epoch 2/3\n",
            "149/149 [==============================] - 136s 911ms/step - loss: 3.3428 - accuracy: 0.0710 - val_loss: 3.3543 - val_accuracy: 0.0400\n",
            "Epoch 3/3\n",
            "149/149 [==============================] - 136s 909ms/step - loss: 3.3195 - accuracy: 0.0832 - val_loss: 3.3183 - val_accuracy: 0.0867\n"
          ]
        },
        {
          "output_type": "stream",
          "name": "stderr",
          "text": [
            "\r 46%|████▌     | 16/35 [1:22:23<1:50:43, 349.67s/it]"
          ]
        },
        {
          "output_type": "stream",
          "name": "stdout",
          "text": [
            "Downloading data from https://storage.googleapis.com/tensorflow/keras-applications/efficientnet_v2/efficientnetv2-m_notop.h5\n",
            "214204416/214201816 [==============================] - 5s 0us/step\n",
            "214212608/214201816 [==============================] - 5s 0us/step\n",
            "Epoch 1/3\n",
            "149/149 [==============================] - 117s 632ms/step - loss: 3.3762 - accuracy: 0.0588 - val_loss: 3.4043 - val_accuracy: 0.0467\n",
            "Epoch 2/3\n",
            "149/149 [==============================] - 88s 591ms/step - loss: 3.3571 - accuracy: 0.0620 - val_loss: 3.3904 - val_accuracy: 0.0467\n",
            "Epoch 3/3\n",
            "149/149 [==============================] - 89s 594ms/step - loss: 3.3411 - accuracy: 0.0706 - val_loss: 3.3743 - val_accuracy: 0.0400\n"
          ]
        },
        {
          "output_type": "stream",
          "name": "stderr",
          "text": [
            "\r 49%|████▊     | 17/35 [1:29:13<1:50:19, 367.78s/it]"
          ]
        },
        {
          "output_type": "stream",
          "name": "stdout",
          "text": [
            "Downloading data from https://storage.googleapis.com/tensorflow/keras-applications/efficientnet_v2/efficientnetv2-s_notop.h5\n",
            "82427904/82420632 [==============================] - 3s 0us/step\n",
            "82436096/82420632 [==============================] - 3s 0us/step\n",
            "Epoch 1/3\n",
            "149/149 [==============================] - 94s 532ms/step - loss: 3.1717 - accuracy: 0.1294 - val_loss: 3.0525 - val_accuracy: 0.1267\n",
            "Epoch 2/3\n",
            "149/149 [==============================] - 74s 498ms/step - loss: 2.9377 - accuracy: 0.1960 - val_loss: 2.8378 - val_accuracy: 0.2267\n",
            "Epoch 3/3\n",
            "149/149 [==============================] - 74s 494ms/step - loss: 2.8187 - accuracy: 0.2336 - val_loss: 2.7114 - val_accuracy: 0.2267\n"
          ]
        },
        {
          "output_type": "stream",
          "name": "stderr",
          "text": [
            "\r 51%|█████▏    | 18/35 [1:33:35<1:35:12, 336.01s/it]"
          ]
        },
        {
          "output_type": "stream",
          "name": "stdout",
          "text": [
            "Downloading data from https://storage.googleapis.com/tensorflow/keras-applications/inception_resnet_v2/inception_resnet_v2_weights_tf_dim_ordering_tf_kernels_notop.h5\n",
            "219062272/219055592 [==============================] - 4s 0us/step\n",
            "219070464/219055592 [==============================] - 4s 0us/step\n",
            "Epoch 1/3\n",
            "149/149 [==============================] - 107s 604ms/step - loss: 0.8796 - accuracy: 0.7494 - val_loss: 0.2040 - val_accuracy: 0.9200\n",
            "Epoch 2/3\n",
            "149/149 [==============================] - 83s 553ms/step - loss: 0.3583 - accuracy: 0.8822 - val_loss: 0.1259 - val_accuracy: 0.9600\n",
            "Epoch 3/3\n",
            "149/149 [==============================] - 82s 552ms/step - loss: 0.2736 - accuracy: 0.9139 - val_loss: 0.1799 - val_accuracy: 0.9533\n"
          ]
        },
        {
          "output_type": "stream",
          "name": "stderr",
          "text": [
            "\r 54%|█████▍    | 19/35 [1:39:10<1:29:29, 335.59s/it]"
          ]
        },
        {
          "output_type": "stream",
          "name": "stdout",
          "text": [
            "Downloading data from https://storage.googleapis.com/tensorflow/keras-applications/inception_v3/inception_v3_weights_tf_dim_ordering_tf_kernels_notop.h5\n",
            "87916544/87910968 [==============================] - 3s 0us/step\n",
            "87924736/87910968 [==============================] - 3s 0us/step\n",
            "Epoch 1/3\n",
            "149/149 [==============================] - 76s 469ms/step - loss: 0.9569 - accuracy: 0.7362 - val_loss: 0.1717 - val_accuracy: 0.9533\n",
            "Epoch 2/3\n",
            "149/149 [==============================] - 67s 446ms/step - loss: 0.3731 - accuracy: 0.8870 - val_loss: 0.0951 - val_accuracy: 0.9733\n",
            "Epoch 3/3\n",
            "149/149 [==============================] - 68s 454ms/step - loss: 0.2740 - accuracy: 0.9122 - val_loss: 0.0934 - val_accuracy: 0.9667\n"
          ]
        },
        {
          "output_type": "stream",
          "name": "stderr",
          "text": [
            "\r 57%|█████▋    | 20/35 [1:43:01<1:16:04, 304.28s/it]"
          ]
        },
        {
          "output_type": "stream",
          "name": "stdout",
          "text": [
            "Downloading data from https://storage.googleapis.com/tensorflow/keras-applications/mobilenet/mobilenet_1_0_224_tf_no_top.h5\n",
            "17227776/17225924 [==============================] - 0s 0us/step\n",
            "17235968/17225924 [==============================] - 0s 0us/step\n",
            "Epoch 1/3\n",
            "149/149 [==============================] - 65s 420ms/step - loss: 1.1783 - accuracy: 0.6946 - val_loss: 0.1738 - val_accuracy: 0.9667\n",
            "Epoch 2/3\n",
            "149/149 [==============================] - 62s 416ms/step - loss: 0.3310 - accuracy: 0.9099 - val_loss: 0.0693 - val_accuracy: 0.9933\n",
            "Epoch 3/3\n",
            "149/149 [==============================] - 63s 420ms/step - loss: 0.2190 - accuracy: 0.9376 - val_loss: 0.0427 - val_accuracy: 0.9867\n"
          ]
        },
        {
          "output_type": "stream",
          "name": "stderr",
          "text": [
            "\r 60%|██████    | 21/35 [1:46:33<1:04:29, 276.42s/it]"
          ]
        },
        {
          "output_type": "stream",
          "name": "stdout",
          "text": [
            "Downloading data from https://storage.googleapis.com/tensorflow/keras-applications/mobilenet_v2/mobilenet_v2_weights_tf_dim_ordering_tf_kernels_1.0_224_no_top.h5\n",
            "9412608/9406464 [==============================] - 0s 0us/step\n",
            "9420800/9406464 [==============================] - 0s 0us/step\n",
            "Epoch 1/3\n",
            "149/149 [==============================] - 68s 435ms/step - loss: 0.9995 - accuracy: 0.7559 - val_loss: 0.1433 - val_accuracy: 0.9800\n",
            "Epoch 2/3\n",
            "149/149 [==============================] - 63s 422ms/step - loss: 0.2785 - accuracy: 0.9235 - val_loss: 0.0716 - val_accuracy: 0.9733\n",
            "Epoch 3/3\n",
            "149/149 [==============================] - 63s 425ms/step - loss: 0.1910 - accuracy: 0.9431 - val_loss: 0.0619 - val_accuracy: 0.9800\n"
          ]
        },
        {
          "output_type": "stream",
          "name": "stderr",
          "text": [
            "\r 63%|██████▎   | 22/35 [1:50:07<55:49, 257.66s/it]  "
          ]
        },
        {
          "output_type": "stream",
          "name": "stdout",
          "text": [
            "Downloading data from https://storage.googleapis.com/tensorflow/keras-applications/mobilenet_v3/weights_mobilenet_v3_large_224_1.0_float_no_top_v2.h5\n",
            "12689408/12683000 [==============================] - 1s 0us/step\n",
            "12697600/12683000 [==============================] - 1s 0us/step\n",
            "Epoch 1/3\n",
            "149/149 [==============================] - 69s 432ms/step - loss: 3.3934 - accuracy: 0.0557 - val_loss: 3.3740 - val_accuracy: 0.0533\n",
            "Epoch 2/3\n",
            "149/149 [==============================] - 62s 419ms/step - loss: 3.3254 - accuracy: 0.0823 - val_loss: 3.2999 - val_accuracy: 0.1333\n",
            "Epoch 3/3\n",
            "149/149 [==============================] - 63s 423ms/step - loss: 3.2838 - accuracy: 0.0991 - val_loss: 3.2491 - val_accuracy: 0.0733\n"
          ]
        },
        {
          "output_type": "stream",
          "name": "stderr",
          "text": [
            "\r 66%|██████▌   | 23/35 [1:53:26<48:03, 240.29s/it]"
          ]
        },
        {
          "output_type": "stream",
          "name": "stdout",
          "text": [
            "Downloading data from https://storage.googleapis.com/tensorflow/keras-applications/mobilenet_v3/weights_mobilenet_v3_small_224_1.0_float_no_top_v2.h5\n",
            "4341760/4334752 [==============================] - 0s 0us/step\n",
            "4349952/4334752 [==============================] - 0s 0us/step\n",
            "Epoch 1/3\n",
            "149/149 [==============================] - 65s 409ms/step - loss: 3.3974 - accuracy: 0.0531 - val_loss: 3.4401 - val_accuracy: 0.0533\n",
            "Epoch 2/3\n",
            "149/149 [==============================] - 61s 408ms/step - loss: 3.3754 - accuracy: 0.0586 - val_loss: 3.4030 - val_accuracy: 0.0800\n",
            "Epoch 3/3\n",
            "149/149 [==============================] - 61s 407ms/step - loss: 3.3659 - accuracy: 0.0672 - val_loss: 3.3867 - val_accuracy: 0.0400\n"
          ]
        },
        {
          "output_type": "stream",
          "name": "stderr",
          "text": [
            "\r 69%|██████▊   | 24/35 [1:57:20<43:40, 238.21s/it]"
          ]
        },
        {
          "output_type": "stream",
          "name": "stdout",
          "text": [
            "Downloading data from https://storage.googleapis.com/tensorflow/keras-applications/nasnet/NASNet-large-no-top.h5\n",
            "343613440/343610240 [==============================] - 18s 0us/step\n",
            "343621632/343610240 [==============================] - 18s 0us/step\n",
            "Epoch 1/3\n",
            "149/149 [==============================] - 369s 2s/step - loss: 0.6234 - accuracy: 0.8536 - val_loss: 0.1750 - val_accuracy: 0.9533\n",
            "Epoch 2/3\n",
            "149/149 [==============================] - 329s 2s/step - loss: 0.2211 - accuracy: 0.9288 - val_loss: 0.1284 - val_accuracy: 0.9533\n",
            "Epoch 3/3\n",
            "149/149 [==============================] - 329s 2s/step - loss: 0.1640 - accuracy: 0.9464 - val_loss: 0.1426 - val_accuracy: 0.9400\n"
          ]
        },
        {
          "output_type": "stream",
          "name": "stderr",
          "text": [
            "\r 71%|███████▏  | 25/35 [2:15:51<1:23:20, 500.09s/it]"
          ]
        },
        {
          "output_type": "stream",
          "name": "stdout",
          "text": [
            "Downloading data from https://storage.googleapis.com/tensorflow/keras-applications/nasnet/NASNet-mobile-no-top.h5\n",
            "19996672/19993432 [==============================] - 1s 0us/step\n",
            "20004864/19993432 [==============================] - 1s 0us/step\n",
            "Epoch 1/3\n",
            "149/149 [==============================] - 88s 475ms/step - loss: 1.1119 - accuracy: 0.7215 - val_loss: 0.3056 - val_accuracy: 0.9400\n",
            "Epoch 2/3\n",
            "149/149 [==============================] - 66s 439ms/step - loss: 0.4175 - accuracy: 0.8773 - val_loss: 0.2067 - val_accuracy: 0.9400\n",
            "Epoch 3/3\n",
            "149/149 [==============================] - 67s 447ms/step - loss: 0.3185 - accuracy: 0.9065 - val_loss: 0.1658 - val_accuracy: 0.9400\n"
          ]
        },
        {
          "output_type": "stream",
          "name": "stderr",
          "text": [
            "\r 74%|███████▍  | 26/35 [2:19:58<1:03:38, 424.25s/it]"
          ]
        },
        {
          "output_type": "stream",
          "name": "stdout",
          "text": [
            "Downloading data from https://storage.googleapis.com/tensorflow/keras-applications/resnet/resnet101_weights_tf_dim_ordering_tf_kernels_notop.h5\n",
            "171450368/171446536 [==============================] - 6s 0us/step\n",
            "171458560/171446536 [==============================] - 6s 0us/step\n",
            "Epoch 1/3\n",
            "149/149 [==============================] - 92s 561ms/step - loss: 3.3348 - accuracy: 0.0813 - val_loss: 3.2272 - val_accuracy: 0.1533\n",
            "Epoch 2/3\n",
            "149/149 [==============================] - 80s 536ms/step - loss: 3.1854 - accuracy: 0.1296 - val_loss: 3.1130 - val_accuracy: 0.1533\n",
            "Epoch 3/3\n",
            "149/149 [==============================] - 81s 541ms/step - loss: 3.1035 - accuracy: 0.1500 - val_loss: 2.9893 - val_accuracy: 0.1733\n"
          ]
        },
        {
          "output_type": "stream",
          "name": "stderr",
          "text": [
            "\r 77%|███████▋  | 27/35 [2:25:21<52:30, 393.87s/it]  "
          ]
        },
        {
          "output_type": "stream",
          "name": "stdout",
          "text": [
            "Downloading data from https://storage.googleapis.com/tensorflow/keras-applications/resnet/resnet101v2_weights_tf_dim_ordering_tf_kernels_notop.h5\n",
            "171319296/171317808 [==============================] - 6s 0us/step\n",
            "171327488/171317808 [==============================] - 6s 0us/step\n",
            "Epoch 1/3\n",
            "149/149 [==============================] - 91s 541ms/step - loss: 0.7458 - accuracy: 0.7902 - val_loss: 0.0932 - val_accuracy: 0.9600\n",
            "Epoch 2/3\n",
            "149/149 [==============================] - 79s 527ms/step - loss: 0.2219 - accuracy: 0.9275 - val_loss: 0.0478 - val_accuracy: 0.9800\n",
            "Epoch 3/3\n",
            "149/149 [==============================] - 78s 524ms/step - loss: 0.1665 - accuracy: 0.9466 - val_loss: 0.0475 - val_accuracy: 0.9800\n"
          ]
        },
        {
          "output_type": "stream",
          "name": "stderr",
          "text": [
            "\r 80%|████████  | 28/35 [2:29:40<41:13, 353.36s/it]"
          ]
        },
        {
          "output_type": "stream",
          "name": "stdout",
          "text": [
            "Downloading data from https://storage.googleapis.com/tensorflow/keras-applications/resnet/resnet152_weights_tf_dim_ordering_tf_kernels_notop.h5\n",
            "234700800/234698864 [==============================] - 5s 0us/step\n",
            "234708992/234698864 [==============================] - 6s 0us/step\n",
            "Epoch 1/3\n",
            "149/149 [==============================] - 107s 644ms/step - loss: 3.3224 - accuracy: 0.0783 - val_loss: 3.1934 - val_accuracy: 0.1200\n",
            "Epoch 2/3\n",
            "149/149 [==============================] - 92s 617ms/step - loss: 3.1608 - accuracy: 0.1365 - val_loss: 3.0426 - val_accuracy: 0.1533\n",
            "Epoch 3/3\n",
            "149/149 [==============================] - 92s 617ms/step - loss: 3.0793 - accuracy: 0.1577 - val_loss: 2.9501 - val_accuracy: 0.1933\n"
          ]
        },
        {
          "output_type": "stream",
          "name": "stderr",
          "text": [
            "\r 83%|████████▎ | 29/35 [2:35:33<35:20, 353.40s/it]"
          ]
        },
        {
          "output_type": "stream",
          "name": "stdout",
          "text": [
            "Downloading data from https://storage.googleapis.com/tensorflow/keras-applications/resnet/resnet152v2_weights_tf_dim_ordering_tf_kernels_notop.h5\n",
            "234553344/234545216 [==============================] - 3s 0us/step\n",
            "234561536/234545216 [==============================] - 3s 0us/step\n",
            "Epoch 1/3\n",
            "149/149 [==============================] - 105s 616ms/step - loss: 0.7748 - accuracy: 0.7933 - val_loss: 0.0846 - val_accuracy: 0.9867\n",
            "Epoch 2/3\n",
            "149/149 [==============================] - 89s 594ms/step - loss: 0.2319 - accuracy: 0.9305 - val_loss: 0.0785 - val_accuracy: 0.9667\n",
            "Epoch 3/3\n",
            "149/149 [==============================] - 89s 594ms/step - loss: 0.1588 - accuracy: 0.9509 - val_loss: 0.0497 - val_accuracy: 0.9800\n"
          ]
        },
        {
          "output_type": "stream",
          "name": "stderr",
          "text": [
            "\r 86%|████████▌ | 30/35 [2:41:18<29:13, 350.79s/it]"
          ]
        },
        {
          "output_type": "stream",
          "name": "stdout",
          "text": [
            "Downloading data from https://storage.googleapis.com/tensorflow/keras-applications/resnet/resnet50_weights_tf_dim_ordering_tf_kernels_notop.h5\n",
            "94773248/94765736 [==============================] - 2s 0us/step\n",
            "94781440/94765736 [==============================] - 2s 0us/step\n",
            "Epoch 1/3\n",
            "149/149 [==============================] - 77s 489ms/step - loss: 3.3487 - accuracy: 0.0767 - val_loss: 3.2614 - val_accuracy: 0.0667\n",
            "Epoch 2/3\n",
            "149/149 [==============================] - 71s 474ms/step - loss: 3.2081 - accuracy: 0.1149 - val_loss: 3.1307 - val_accuracy: 0.1533\n",
            "Epoch 3/3\n",
            "149/149 [==============================] - 72s 479ms/step - loss: 3.1248 - accuracy: 0.1411 - val_loss: 3.0359 - val_accuracy: 0.1867\n"
          ]
        },
        {
          "output_type": "stream",
          "name": "stderr",
          "text": [
            "\r 89%|████████▊ | 31/35 [2:45:21<21:13, 318.40s/it]"
          ]
        },
        {
          "output_type": "stream",
          "name": "stdout",
          "text": [
            "Downloading data from https://storage.googleapis.com/tensorflow/keras-applications/resnet/resnet50v2_weights_tf_dim_ordering_tf_kernels_notop.h5\n",
            "94674944/94668760 [==============================] - 3s 0us/step\n",
            "94683136/94668760 [==============================] - 3s 0us/step\n",
            "Epoch 1/3\n",
            "149/149 [==============================] - 75s 476ms/step - loss: 0.8040 - accuracy: 0.7767 - val_loss: 0.1101 - val_accuracy: 0.9800\n",
            "Epoch 2/3\n",
            "149/149 [==============================] - 70s 467ms/step - loss: 0.2528 - accuracy: 0.9198 - val_loss: 0.0701 - val_accuracy: 0.9867\n",
            "Epoch 3/3\n",
            "149/149 [==============================] - 70s 469ms/step - loss: 0.1779 - accuracy: 0.9450 - val_loss: 0.0886 - val_accuracy: 0.9733\n"
          ]
        },
        {
          "output_type": "stream",
          "name": "stderr",
          "text": [
            "\r 91%|█████████▏| 32/35 [2:49:25<14:47, 296.00s/it]"
          ]
        },
        {
          "output_type": "stream",
          "name": "stdout",
          "text": [
            "Downloading data from https://storage.googleapis.com/tensorflow/keras-applications/vgg16/vgg16_weights_tf_dim_ordering_tf_kernels_notop.h5\n",
            "58892288/58889256 [==============================] - 1s 0us/step\n",
            "58900480/58889256 [==============================] - 1s 0us/step\n",
            "Epoch 1/3\n",
            "149/149 [==============================] - 86s 545ms/step - loss: 3.0157 - accuracy: 0.2371 - val_loss: 2.4877 - val_accuracy: 0.4867\n",
            "Epoch 2/3\n",
            "149/149 [==============================] - 75s 502ms/step - loss: 2.3906 - accuracy: 0.5012 - val_loss: 1.8234 - val_accuracy: 0.7333\n",
            "Epoch 3/3\n",
            "149/149 [==============================] - 75s 502ms/step - loss: 1.9771 - accuracy: 0.6205 - val_loss: 1.4046 - val_accuracy: 0.7933\n"
          ]
        },
        {
          "output_type": "stream",
          "name": "stderr",
          "text": [
            "\r 94%|█████████▍| 33/35 [2:54:34<10:00, 300.01s/it]"
          ]
        },
        {
          "output_type": "stream",
          "name": "stdout",
          "text": [
            "Downloading data from https://storage.googleapis.com/tensorflow/keras-applications/vgg19/vgg19_weights_tf_dim_ordering_tf_kernels_notop.h5\n",
            "80142336/80134624 [==============================] - 2s 0us/step\n",
            "80150528/80134624 [==============================] - 2s 0us/step\n",
            "Epoch 1/3\n",
            "149/149 [==============================] - 80s 527ms/step - loss: 3.0598 - accuracy: 0.2287 - val_loss: 2.5513 - val_accuracy: 0.5333\n",
            "Epoch 2/3\n",
            "149/149 [==============================] - 79s 525ms/step - loss: 2.4749 - accuracy: 0.4808 - val_loss: 1.9361 - val_accuracy: 0.6533\n",
            "Epoch 3/3\n",
            "149/149 [==============================] - 78s 525ms/step - loss: 2.0732 - accuracy: 0.5911 - val_loss: 1.5238 - val_accuracy: 0.7600\n"
          ]
        },
        {
          "output_type": "stream",
          "name": "stderr",
          "text": [
            "\r 97%|█████████▋| 34/35 [2:58:40<04:43, 283.92s/it]"
          ]
        },
        {
          "output_type": "stream",
          "name": "stdout",
          "text": [
            "Downloading data from https://storage.googleapis.com/tensorflow/keras-applications/xception/xception_weights_tf_dim_ordering_tf_kernels_notop.h5\n",
            "83689472/83683744 [==============================] - 1s 0us/step\n",
            "83697664/83683744 [==============================] - 1s 0us/step\n",
            "Epoch 1/3\n",
            "149/149 [==============================] - 86s 535ms/step - loss: 0.8943 - accuracy: 0.7952 - val_loss: 0.1681 - val_accuracy: 0.9533\n",
            "Epoch 2/3\n",
            "149/149 [==============================] - 77s 513ms/step - loss: 0.3088 - accuracy: 0.9099 - val_loss: 0.1217 - val_accuracy: 0.9667\n",
            "Epoch 3/3\n",
            "149/149 [==============================] - 76s 511ms/step - loss: 0.2388 - accuracy: 0.9292 - val_loss: 0.0966 - val_accuracy: 0.9533\n"
          ]
        },
        {
          "output_type": "stream",
          "name": "stderr",
          "text": [
            "100%|██████████| 35/35 [3:02:49<00:00, 313.42s/it]\n"
          ]
        }
      ]
    },
    {
      "cell_type": "code",
      "source": [
        "benchmark_df = pd.DataFrame(model_benchmarks)\n",
        "\n",
        "# sort in ascending order of num_model_params column\n",
        "benchmark_df.sort_values('validation_accuracy', inplace=True)\n",
        "\n",
        "# write results to csv file\n",
        "benchmark_df.to_csv('benchmark_df.csv', index=False)\n",
        "benchmark_df"
      ],
      "metadata": {
        "colab": {
          "base_uri": "https://localhost:8080/",
          "height": 1000
        },
        "id": "fD-WtstvJJkh",
        "outputId": "86838c70-dedc-4d47-b7e5-b3944a57fcef"
      },
      "execution_count": 24,
      "outputs": [
        {
          "output_type": "execute_result",
          "data": {
            "text/html": [
              "\n",
              "  <div id=\"df-885439d1-2fd8-4f2b-8910-bdd8696ec6f9\">\n",
              "    <div class=\"colab-df-container\">\n",
              "      <div>\n",
              "<style scoped>\n",
              "    .dataframe tbody tr th:only-of-type {\n",
              "        vertical-align: middle;\n",
              "    }\n",
              "\n",
              "    .dataframe tbody tr th {\n",
              "        vertical-align: top;\n",
              "    }\n",
              "\n",
              "    .dataframe thead th {\n",
              "        text-align: right;\n",
              "    }\n",
              "</style>\n",
              "<table border=\"1\" class=\"dataframe\">\n",
              "  <thead>\n",
              "    <tr style=\"text-align: right;\">\n",
              "      <th></th>\n",
              "      <th>model_name</th>\n",
              "      <th>num_model_params</th>\n",
              "      <th>validation_accuracy</th>\n",
              "    </tr>\n",
              "  </thead>\n",
              "  <tbody>\n",
              "    <tr>\n",
              "      <th>11</th>\n",
              "      <td>EfficientNetV2B0</td>\n",
              "      <td>5919312</td>\n",
              "      <td>0.033333</td>\n",
              "    </tr>\n",
              "    <tr>\n",
              "      <th>10</th>\n",
              "      <td>EfficientNetB7</td>\n",
              "      <td>64097687</td>\n",
              "      <td>0.033333</td>\n",
              "    </tr>\n",
              "    <tr>\n",
              "      <th>3</th>\n",
              "      <td>EfficientNetB0</td>\n",
              "      <td>4049571</td>\n",
              "      <td>0.033333</td>\n",
              "    </tr>\n",
              "    <tr>\n",
              "      <th>4</th>\n",
              "      <td>EfficientNetB1</td>\n",
              "      <td>6575239</td>\n",
              "      <td>0.033333</td>\n",
              "    </tr>\n",
              "    <tr>\n",
              "      <th>5</th>\n",
              "      <td>EfficientNetB2</td>\n",
              "      <td>7768569</td>\n",
              "      <td>0.033333</td>\n",
              "    </tr>\n",
              "    <tr>\n",
              "      <th>6</th>\n",
              "      <td>EfficientNetB3</td>\n",
              "      <td>10783535</td>\n",
              "      <td>0.033333</td>\n",
              "    </tr>\n",
              "    <tr>\n",
              "      <th>7</th>\n",
              "      <td>EfficientNetB4</td>\n",
              "      <td>17673823</td>\n",
              "      <td>0.033333</td>\n",
              "    </tr>\n",
              "    <tr>\n",
              "      <th>8</th>\n",
              "      <td>EfficientNetB5</td>\n",
              "      <td>28513527</td>\n",
              "      <td>0.033333</td>\n",
              "    </tr>\n",
              "    <tr>\n",
              "      <th>9</th>\n",
              "      <td>EfficientNetB6</td>\n",
              "      <td>40960143</td>\n",
              "      <td>0.033333</td>\n",
              "    </tr>\n",
              "    <tr>\n",
              "      <th>16</th>\n",
              "      <td>EfficientNetV2M</td>\n",
              "      <td>53150388</td>\n",
              "      <td>0.040000</td>\n",
              "    </tr>\n",
              "    <tr>\n",
              "      <th>23</th>\n",
              "      <td>MobileNetV3Small</td>\n",
              "      <td>939120</td>\n",
              "      <td>0.040000</td>\n",
              "    </tr>\n",
              "    <tr>\n",
              "      <th>14</th>\n",
              "      <td>EfficientNetV2B3</td>\n",
              "      <td>12930622</td>\n",
              "      <td>0.046667</td>\n",
              "    </tr>\n",
              "    <tr>\n",
              "      <th>12</th>\n",
              "      <td>EfficientNetV2B1</td>\n",
              "      <td>6931124</td>\n",
              "      <td>0.053333</td>\n",
              "    </tr>\n",
              "    <tr>\n",
              "      <th>13</th>\n",
              "      <td>EfficientNetV2B2</td>\n",
              "      <td>8769374</td>\n",
              "      <td>0.060000</td>\n",
              "    </tr>\n",
              "    <tr>\n",
              "      <th>22</th>\n",
              "      <td>MobileNetV3Large</td>\n",
              "      <td>2996352</td>\n",
              "      <td>0.073333</td>\n",
              "    </tr>\n",
              "    <tr>\n",
              "      <th>15</th>\n",
              "      <td>EfficientNetV2L</td>\n",
              "      <td>117746848</td>\n",
              "      <td>0.086667</td>\n",
              "    </tr>\n",
              "    <tr>\n",
              "      <th>26</th>\n",
              "      <td>ResNet101</td>\n",
              "      <td>42658176</td>\n",
              "      <td>0.173333</td>\n",
              "    </tr>\n",
              "    <tr>\n",
              "      <th>30</th>\n",
              "      <td>ResNet50</td>\n",
              "      <td>23587712</td>\n",
              "      <td>0.186667</td>\n",
              "    </tr>\n",
              "    <tr>\n",
              "      <th>28</th>\n",
              "      <td>ResNet152</td>\n",
              "      <td>58370944</td>\n",
              "      <td>0.193333</td>\n",
              "    </tr>\n",
              "    <tr>\n",
              "      <th>17</th>\n",
              "      <td>EfficientNetV2S</td>\n",
              "      <td>20331360</td>\n",
              "      <td>0.226667</td>\n",
              "    </tr>\n",
              "    <tr>\n",
              "      <th>33</th>\n",
              "      <td>VGG19</td>\n",
              "      <td>20024384</td>\n",
              "      <td>0.760000</td>\n",
              "    </tr>\n",
              "    <tr>\n",
              "      <th>32</th>\n",
              "      <td>VGG16</td>\n",
              "      <td>14714688</td>\n",
              "      <td>0.793333</td>\n",
              "    </tr>\n",
              "    <tr>\n",
              "      <th>25</th>\n",
              "      <td>NASNetMobile</td>\n",
              "      <td>4269716</td>\n",
              "      <td>0.940000</td>\n",
              "    </tr>\n",
              "    <tr>\n",
              "      <th>24</th>\n",
              "      <td>NASNetLarge</td>\n",
              "      <td>84916818</td>\n",
              "      <td>0.940000</td>\n",
              "    </tr>\n",
              "    <tr>\n",
              "      <th>34</th>\n",
              "      <td>Xception</td>\n",
              "      <td>20861480</td>\n",
              "      <td>0.953333</td>\n",
              "    </tr>\n",
              "    <tr>\n",
              "      <th>18</th>\n",
              "      <td>InceptionResNetV2</td>\n",
              "      <td>54336736</td>\n",
              "      <td>0.953333</td>\n",
              "    </tr>\n",
              "    <tr>\n",
              "      <th>19</th>\n",
              "      <td>InceptionV3</td>\n",
              "      <td>21802784</td>\n",
              "      <td>0.966667</td>\n",
              "    </tr>\n",
              "    <tr>\n",
              "      <th>31</th>\n",
              "      <td>ResNet50V2</td>\n",
              "      <td>23564800</td>\n",
              "      <td>0.973333</td>\n",
              "    </tr>\n",
              "    <tr>\n",
              "      <th>27</th>\n",
              "      <td>ResNet101V2</td>\n",
              "      <td>42626560</td>\n",
              "      <td>0.980000</td>\n",
              "    </tr>\n",
              "    <tr>\n",
              "      <th>29</th>\n",
              "      <td>ResNet152V2</td>\n",
              "      <td>58331648</td>\n",
              "      <td>0.980000</td>\n",
              "    </tr>\n",
              "    <tr>\n",
              "      <th>1</th>\n",
              "      <td>DenseNet169</td>\n",
              "      <td>12642880</td>\n",
              "      <td>0.980000</td>\n",
              "    </tr>\n",
              "    <tr>\n",
              "      <th>21</th>\n",
              "      <td>MobileNetV2</td>\n",
              "      <td>2257984</td>\n",
              "      <td>0.980000</td>\n",
              "    </tr>\n",
              "    <tr>\n",
              "      <th>20</th>\n",
              "      <td>MobileNet</td>\n",
              "      <td>3228864</td>\n",
              "      <td>0.986667</td>\n",
              "    </tr>\n",
              "    <tr>\n",
              "      <th>2</th>\n",
              "      <td>DenseNet201</td>\n",
              "      <td>18321984</td>\n",
              "      <td>0.986667</td>\n",
              "    </tr>\n",
              "    <tr>\n",
              "      <th>0</th>\n",
              "      <td>DenseNet121</td>\n",
              "      <td>7037504</td>\n",
              "      <td>0.986667</td>\n",
              "    </tr>\n",
              "  </tbody>\n",
              "</table>\n",
              "</div>\n",
              "      <button class=\"colab-df-convert\" onclick=\"convertToInteractive('df-885439d1-2fd8-4f2b-8910-bdd8696ec6f9')\"\n",
              "              title=\"Convert this dataframe to an interactive table.\"\n",
              "              style=\"display:none;\">\n",
              "        \n",
              "  <svg xmlns=\"http://www.w3.org/2000/svg\" height=\"24px\"viewBox=\"0 0 24 24\"\n",
              "       width=\"24px\">\n",
              "    <path d=\"M0 0h24v24H0V0z\" fill=\"none\"/>\n",
              "    <path d=\"M18.56 5.44l.94 2.06.94-2.06 2.06-.94-2.06-.94-.94-2.06-.94 2.06-2.06.94zm-11 1L8.5 8.5l.94-2.06 2.06-.94-2.06-.94L8.5 2.5l-.94 2.06-2.06.94zm10 10l.94 2.06.94-2.06 2.06-.94-2.06-.94-.94-2.06-.94 2.06-2.06.94z\"/><path d=\"M17.41 7.96l-1.37-1.37c-.4-.4-.92-.59-1.43-.59-.52 0-1.04.2-1.43.59L10.3 9.45l-7.72 7.72c-.78.78-.78 2.05 0 2.83L4 21.41c.39.39.9.59 1.41.59.51 0 1.02-.2 1.41-.59l7.78-7.78 2.81-2.81c.8-.78.8-2.07 0-2.86zM5.41 20L4 18.59l7.72-7.72 1.47 1.35L5.41 20z\"/>\n",
              "  </svg>\n",
              "      </button>\n",
              "      \n",
              "  <style>\n",
              "    .colab-df-container {\n",
              "      display:flex;\n",
              "      flex-wrap:wrap;\n",
              "      gap: 12px;\n",
              "    }\n",
              "\n",
              "    .colab-df-convert {\n",
              "      background-color: #E8F0FE;\n",
              "      border: none;\n",
              "      border-radius: 50%;\n",
              "      cursor: pointer;\n",
              "      display: none;\n",
              "      fill: #1967D2;\n",
              "      height: 32px;\n",
              "      padding: 0 0 0 0;\n",
              "      width: 32px;\n",
              "    }\n",
              "\n",
              "    .colab-df-convert:hover {\n",
              "      background-color: #E2EBFA;\n",
              "      box-shadow: 0px 1px 2px rgba(60, 64, 67, 0.3), 0px 1px 3px 1px rgba(60, 64, 67, 0.15);\n",
              "      fill: #174EA6;\n",
              "    }\n",
              "\n",
              "    [theme=dark] .colab-df-convert {\n",
              "      background-color: #3B4455;\n",
              "      fill: #D2E3FC;\n",
              "    }\n",
              "\n",
              "    [theme=dark] .colab-df-convert:hover {\n",
              "      background-color: #434B5C;\n",
              "      box-shadow: 0px 1px 3px 1px rgba(0, 0, 0, 0.15);\n",
              "      filter: drop-shadow(0px 1px 2px rgba(0, 0, 0, 0.3));\n",
              "      fill: #FFFFFF;\n",
              "    }\n",
              "  </style>\n",
              "\n",
              "      <script>\n",
              "        const buttonEl =\n",
              "          document.querySelector('#df-885439d1-2fd8-4f2b-8910-bdd8696ec6f9 button.colab-df-convert');\n",
              "        buttonEl.style.display =\n",
              "          google.colab.kernel.accessAllowed ? 'block' : 'none';\n",
              "\n",
              "        async function convertToInteractive(key) {\n",
              "          const element = document.querySelector('#df-885439d1-2fd8-4f2b-8910-bdd8696ec6f9');\n",
              "          const dataTable =\n",
              "            await google.colab.kernel.invokeFunction('convertToInteractive',\n",
              "                                                     [key], {});\n",
              "          if (!dataTable) return;\n",
              "\n",
              "          const docLinkHtml = 'Like what you see? Visit the ' +\n",
              "            '<a target=\"_blank\" href=https://colab.research.google.com/notebooks/data_table.ipynb>data table notebook</a>'\n",
              "            + ' to learn more about interactive tables.';\n",
              "          element.innerHTML = '';\n",
              "          dataTable['output_type'] = 'display_data';\n",
              "          await google.colab.output.renderOutput(dataTable, element);\n",
              "          const docLink = document.createElement('div');\n",
              "          docLink.innerHTML = docLinkHtml;\n",
              "          element.appendChild(docLink);\n",
              "        }\n",
              "      </script>\n",
              "    </div>\n",
              "  </div>\n",
              "  "
            ],
            "text/plain": [
              "           model_name  num_model_params  validation_accuracy\n",
              "11   EfficientNetV2B0           5919312             0.033333\n",
              "10     EfficientNetB7          64097687             0.033333\n",
              "3      EfficientNetB0           4049571             0.033333\n",
              "4      EfficientNetB1           6575239             0.033333\n",
              "5      EfficientNetB2           7768569             0.033333\n",
              "6      EfficientNetB3          10783535             0.033333\n",
              "7      EfficientNetB4          17673823             0.033333\n",
              "8      EfficientNetB5          28513527             0.033333\n",
              "9      EfficientNetB6          40960143             0.033333\n",
              "16    EfficientNetV2M          53150388             0.040000\n",
              "23   MobileNetV3Small            939120             0.040000\n",
              "14   EfficientNetV2B3          12930622             0.046667\n",
              "12   EfficientNetV2B1           6931124             0.053333\n",
              "13   EfficientNetV2B2           8769374             0.060000\n",
              "22   MobileNetV3Large           2996352             0.073333\n",
              "15    EfficientNetV2L         117746848             0.086667\n",
              "26          ResNet101          42658176             0.173333\n",
              "30           ResNet50          23587712             0.186667\n",
              "28          ResNet152          58370944             0.193333\n",
              "17    EfficientNetV2S          20331360             0.226667\n",
              "33              VGG19          20024384             0.760000\n",
              "32              VGG16          14714688             0.793333\n",
              "25       NASNetMobile           4269716             0.940000\n",
              "24        NASNetLarge          84916818             0.940000\n",
              "34           Xception          20861480             0.953333\n",
              "18  InceptionResNetV2          54336736             0.953333\n",
              "19        InceptionV3          21802784             0.966667\n",
              "31         ResNet50V2          23564800             0.973333\n",
              "27        ResNet101V2          42626560             0.980000\n",
              "29        ResNet152V2          58331648             0.980000\n",
              "1         DenseNet169          12642880             0.980000\n",
              "21        MobileNetV2           2257984             0.980000\n",
              "20          MobileNet           3228864             0.986667\n",
              "2         DenseNet201          18321984             0.986667\n",
              "0         DenseNet121           7037504             0.986667"
            ]
          },
          "metadata": {},
          "execution_count": 24
        }
      ]
    },
    {
      "cell_type": "code",
      "source": [
        "benchmark_df[benchmark_df[\"validation_accuracy\"]>0.8]"
      ],
      "metadata": {
        "colab": {
          "base_uri": "https://localhost:8080/",
          "height": 457
        },
        "id": "U3Tfojf7zDTP",
        "outputId": "ce4b39ea-b4e0-4c27-ad8a-80207b52d39e"
      },
      "execution_count": 30,
      "outputs": [
        {
          "output_type": "execute_result",
          "data": {
            "text/html": [
              "\n",
              "  <div id=\"df-78df382b-7bfd-4db8-b9ca-ea98030c56cf\">\n",
              "    <div class=\"colab-df-container\">\n",
              "      <div>\n",
              "<style scoped>\n",
              "    .dataframe tbody tr th:only-of-type {\n",
              "        vertical-align: middle;\n",
              "    }\n",
              "\n",
              "    .dataframe tbody tr th {\n",
              "        vertical-align: top;\n",
              "    }\n",
              "\n",
              "    .dataframe thead th {\n",
              "        text-align: right;\n",
              "    }\n",
              "</style>\n",
              "<table border=\"1\" class=\"dataframe\">\n",
              "  <thead>\n",
              "    <tr style=\"text-align: right;\">\n",
              "      <th></th>\n",
              "      <th>model_name</th>\n",
              "      <th>num_model_params</th>\n",
              "      <th>validation_accuracy</th>\n",
              "    </tr>\n",
              "  </thead>\n",
              "  <tbody>\n",
              "    <tr>\n",
              "      <th>25</th>\n",
              "      <td>NASNetMobile</td>\n",
              "      <td>4269716</td>\n",
              "      <td>0.940000</td>\n",
              "    </tr>\n",
              "    <tr>\n",
              "      <th>24</th>\n",
              "      <td>NASNetLarge</td>\n",
              "      <td>84916818</td>\n",
              "      <td>0.940000</td>\n",
              "    </tr>\n",
              "    <tr>\n",
              "      <th>34</th>\n",
              "      <td>Xception</td>\n",
              "      <td>20861480</td>\n",
              "      <td>0.953333</td>\n",
              "    </tr>\n",
              "    <tr>\n",
              "      <th>18</th>\n",
              "      <td>InceptionResNetV2</td>\n",
              "      <td>54336736</td>\n",
              "      <td>0.953333</td>\n",
              "    </tr>\n",
              "    <tr>\n",
              "      <th>19</th>\n",
              "      <td>InceptionV3</td>\n",
              "      <td>21802784</td>\n",
              "      <td>0.966667</td>\n",
              "    </tr>\n",
              "    <tr>\n",
              "      <th>31</th>\n",
              "      <td>ResNet50V2</td>\n",
              "      <td>23564800</td>\n",
              "      <td>0.973333</td>\n",
              "    </tr>\n",
              "    <tr>\n",
              "      <th>27</th>\n",
              "      <td>ResNet101V2</td>\n",
              "      <td>42626560</td>\n",
              "      <td>0.980000</td>\n",
              "    </tr>\n",
              "    <tr>\n",
              "      <th>29</th>\n",
              "      <td>ResNet152V2</td>\n",
              "      <td>58331648</td>\n",
              "      <td>0.980000</td>\n",
              "    </tr>\n",
              "    <tr>\n",
              "      <th>1</th>\n",
              "      <td>DenseNet169</td>\n",
              "      <td>12642880</td>\n",
              "      <td>0.980000</td>\n",
              "    </tr>\n",
              "    <tr>\n",
              "      <th>21</th>\n",
              "      <td>MobileNetV2</td>\n",
              "      <td>2257984</td>\n",
              "      <td>0.980000</td>\n",
              "    </tr>\n",
              "    <tr>\n",
              "      <th>20</th>\n",
              "      <td>MobileNet</td>\n",
              "      <td>3228864</td>\n",
              "      <td>0.986667</td>\n",
              "    </tr>\n",
              "    <tr>\n",
              "      <th>2</th>\n",
              "      <td>DenseNet201</td>\n",
              "      <td>18321984</td>\n",
              "      <td>0.986667</td>\n",
              "    </tr>\n",
              "    <tr>\n",
              "      <th>0</th>\n",
              "      <td>DenseNet121</td>\n",
              "      <td>7037504</td>\n",
              "      <td>0.986667</td>\n",
              "    </tr>\n",
              "  </tbody>\n",
              "</table>\n",
              "</div>\n",
              "      <button class=\"colab-df-convert\" onclick=\"convertToInteractive('df-78df382b-7bfd-4db8-b9ca-ea98030c56cf')\"\n",
              "              title=\"Convert this dataframe to an interactive table.\"\n",
              "              style=\"display:none;\">\n",
              "        \n",
              "  <svg xmlns=\"http://www.w3.org/2000/svg\" height=\"24px\"viewBox=\"0 0 24 24\"\n",
              "       width=\"24px\">\n",
              "    <path d=\"M0 0h24v24H0V0z\" fill=\"none\"/>\n",
              "    <path d=\"M18.56 5.44l.94 2.06.94-2.06 2.06-.94-2.06-.94-.94-2.06-.94 2.06-2.06.94zm-11 1L8.5 8.5l.94-2.06 2.06-.94-2.06-.94L8.5 2.5l-.94 2.06-2.06.94zm10 10l.94 2.06.94-2.06 2.06-.94-2.06-.94-.94-2.06-.94 2.06-2.06.94z\"/><path d=\"M17.41 7.96l-1.37-1.37c-.4-.4-.92-.59-1.43-.59-.52 0-1.04.2-1.43.59L10.3 9.45l-7.72 7.72c-.78.78-.78 2.05 0 2.83L4 21.41c.39.39.9.59 1.41.59.51 0 1.02-.2 1.41-.59l7.78-7.78 2.81-2.81c.8-.78.8-2.07 0-2.86zM5.41 20L4 18.59l7.72-7.72 1.47 1.35L5.41 20z\"/>\n",
              "  </svg>\n",
              "      </button>\n",
              "      \n",
              "  <style>\n",
              "    .colab-df-container {\n",
              "      display:flex;\n",
              "      flex-wrap:wrap;\n",
              "      gap: 12px;\n",
              "    }\n",
              "\n",
              "    .colab-df-convert {\n",
              "      background-color: #E8F0FE;\n",
              "      border: none;\n",
              "      border-radius: 50%;\n",
              "      cursor: pointer;\n",
              "      display: none;\n",
              "      fill: #1967D2;\n",
              "      height: 32px;\n",
              "      padding: 0 0 0 0;\n",
              "      width: 32px;\n",
              "    }\n",
              "\n",
              "    .colab-df-convert:hover {\n",
              "      background-color: #E2EBFA;\n",
              "      box-shadow: 0px 1px 2px rgba(60, 64, 67, 0.3), 0px 1px 3px 1px rgba(60, 64, 67, 0.15);\n",
              "      fill: #174EA6;\n",
              "    }\n",
              "\n",
              "    [theme=dark] .colab-df-convert {\n",
              "      background-color: #3B4455;\n",
              "      fill: #D2E3FC;\n",
              "    }\n",
              "\n",
              "    [theme=dark] .colab-df-convert:hover {\n",
              "      background-color: #434B5C;\n",
              "      box-shadow: 0px 1px 3px 1px rgba(0, 0, 0, 0.15);\n",
              "      filter: drop-shadow(0px 1px 2px rgba(0, 0, 0, 0.3));\n",
              "      fill: #FFFFFF;\n",
              "    }\n",
              "  </style>\n",
              "\n",
              "      <script>\n",
              "        const buttonEl =\n",
              "          document.querySelector('#df-78df382b-7bfd-4db8-b9ca-ea98030c56cf button.colab-df-convert');\n",
              "        buttonEl.style.display =\n",
              "          google.colab.kernel.accessAllowed ? 'block' : 'none';\n",
              "\n",
              "        async function convertToInteractive(key) {\n",
              "          const element = document.querySelector('#df-78df382b-7bfd-4db8-b9ca-ea98030c56cf');\n",
              "          const dataTable =\n",
              "            await google.colab.kernel.invokeFunction('convertToInteractive',\n",
              "                                                     [key], {});\n",
              "          if (!dataTable) return;\n",
              "\n",
              "          const docLinkHtml = 'Like what you see? Visit the ' +\n",
              "            '<a target=\"_blank\" href=https://colab.research.google.com/notebooks/data_table.ipynb>data table notebook</a>'\n",
              "            + ' to learn more about interactive tables.';\n",
              "          element.innerHTML = '';\n",
              "          dataTable['output_type'] = 'display_data';\n",
              "          await google.colab.output.renderOutput(dataTable, element);\n",
              "          const docLink = document.createElement('div');\n",
              "          docLink.innerHTML = docLinkHtml;\n",
              "          element.appendChild(docLink);\n",
              "        }\n",
              "      </script>\n",
              "    </div>\n",
              "  </div>\n",
              "  "
            ],
            "text/plain": [
              "           model_name  num_model_params  validation_accuracy\n",
              "25       NASNetMobile           4269716             0.940000\n",
              "24        NASNetLarge          84916818             0.940000\n",
              "34           Xception          20861480             0.953333\n",
              "18  InceptionResNetV2          54336736             0.953333\n",
              "19        InceptionV3          21802784             0.966667\n",
              "31         ResNet50V2          23564800             0.973333\n",
              "27        ResNet101V2          42626560             0.980000\n",
              "29        ResNet152V2          58331648             0.980000\n",
              "1         DenseNet169          12642880             0.980000\n",
              "21        MobileNetV2           2257984             0.980000\n",
              "20          MobileNet           3228864             0.986667\n",
              "2         DenseNet201          18321984             0.986667\n",
              "0         DenseNet121           7037504             0.986667"
            ]
          },
          "metadata": {},
          "execution_count": 30
        }
      ]
    },
    {
      "cell_type": "code",
      "source": [
        ""
      ],
      "metadata": {
        "id": "E9VnTWbKz71a"
      },
      "execution_count": 30,
      "outputs": []
    },
    {
      "cell_type": "code",
      "source": [
        ""
      ],
      "metadata": {
        "id": "n9uxWV1q0hGw"
      },
      "execution_count": null,
      "outputs": []
    }
  ]
}